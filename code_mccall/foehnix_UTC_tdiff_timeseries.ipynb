{
 "cells": [
  {
   "cell_type": "markdown",
   "id": "8a2ec83c-57c1-4601-9c00-d648afa047c1",
   "metadata": {},
   "source": [
    "# Foehnix timseries\n",
    "This notebook is for setting up the foehnix models and plotting timeseries with the dataset which contains station data from McCall and ERA5 data in UTC format.\n",
    "The foehnix models should be set up after Georgs input in the following way:\n",
    "1. Wind filter [90, 270]:\n",
    "- Model 1 with Wind speed JJMC principal, Tdiff of AHAB to ERA5 800 (upstream/crest/McCall?) and RH as concomitant. \n",
    "- Model 2 with same set up but Tdiff JJMC to ERA5 800 and ADDITIONALLY  filter for foehn probability > 0.5 of Model 1\n",
    "\n",
    "2. Wind filter [110, 250]:\n",
    "- Model 1 with Wind speed JJMC principal, Tdiff of AHAB to ERA5 800 (upstream/crest/McCall?) and RH as concomitant. \n",
    "- Model 2 with same set up but Tdiff JJMC to ERA5 800 and ADDITIONALLY  filter for foehn probability > 0.5 of Model 1\n",
    "\n",
    "The plot of the timeseries should than contain:\n",
    "- temperature anomalies (observation - mean T value/ monthly mean T value)\n",
    "- humidity\n",
    "- Wind speed / direction\n",
    "- one subplot for each of the models"
   ]
  },
  {
   "cell_type": "code",
   "execution_count": 28,
   "id": "e5451cd5-d2af-457c-a59c-fba6b0de1b12",
   "metadata": {},
   "outputs": [],
   "source": [
    "#import packages\n",
    "import numpy as np\n",
    "import pandas as pd\n",
    "import xarray as xr\n",
    "from matplotlib import pyplot as plt\n",
    "from matplotlib.collections import LineCollection\n",
    "from matplotlib.colors import ListedColormap, BoundaryNorm\n",
    "#import seaborn as sns\n",
    "from datetime import datetime, timedelta\n",
    "import foehnix\n",
    "\n",
    "\n",
    "#plot setup\n",
    "#%matplotlib inline\n",
    "#plt.style.use('seaborn') # pretty matplotlib plots\n",
    "#plt.rc('font', size=14)\n",
    "#plt.rc('figure', titlesize=18)\n",
    "#plt.rc('axes', labelsize=15)\n",
    "#plt.rc('axes', titlesize=18)"
   ]
  },
  {
   "cell_type": "code",
   "execution_count": 29,
   "id": "76ae3daa-cef6-4fcf-a73f-8945cb513c76",
   "metadata": {},
   "outputs": [],
   "source": [
    "#load data\n",
    "#read data\n",
    "#folder = r\"C:\\Users\\leopo\\Master\\Thesis\\data\\data_raw\"\n",
    "folder = r\"C:\\Users\\leopo\\Master\\Thesis\\Code\\Rfoehnix\\final_version\"\n",
    "#file = r\"\\foehn_datasetera5_utc.xlsx\"\n",
    "file = r\"\\foehnix_input_finalversion.xlsx\"\n",
    "\n",
    "foehn_dataset = pd.read_excel(folder+file, index_col = \"utc_time\",  na_values = \"NAN\")\n",
    "#foehn_dataset = pd.read_excel(folder+file, index_col = \"utc_time\",  na_values = \"\")"
   ]
  },
  {
   "cell_type": "markdown",
   "id": "f1938e6f-f436-4e0a-aa97-a28ede496e77",
   "metadata": {},
   "source": [
    "## Tdiff AHAB, JJMC, ERA5 800 hPa\n",
    "calculate temperature differences of JJMC and AHAB to 800 hPa temperature of ERA5. Use the upstream grid point first, one can still try the other grid points later."
   ]
  },
  {
   "cell_type": "code",
   "execution_count": 30,
   "id": "b380ca1a-01bf-4eb5-bd31-5509a80bfb68",
   "metadata": {},
   "outputs": [
    {
     "data": {
      "text/plain": [
       "Index(['Year', 'Day', 'Time', '3m_T_ahab', '1m_T_ahab', 'pressure_ahab',\n",
       "       '2m_T_jjmc', '2m_RH_jjmc', '3m_Windspeed_jjmc', '3m_Winddir_jjmc',\n",
       "       '1m_Windspeed_jjmc', '1m_Winddir_jjmc', 'pressure_jjmc', '1m_T_jjmc',\n",
       "       '1m_RH_jjmc', '3m_T_jjmc', '3m_RH_jjmc', '3m_gust_jjmc', '1m_gust_jjmc',\n",
       "       'q_s_jjmc', 'windspeed_ahab', 'winddir_ahab', 'RH_ahab', 'Datetime',\n",
       "       't_upstream800', 'windspeed_upstream800', 'winddir_upstream800',\n",
       "       't_crest800', 'windspeed_crest800', 'winddir_crest800', 't_upstream775',\n",
       "       'windspeed_upstream775', 'winddir_upstream775', 't_crest775',\n",
       "       'windspeed_crest775', 'winddir_crest775', 't_upstream750',\n",
       "       'windspeed_upstream750', 'winddir_upstream750', 't_crest750',\n",
       "       'windspeed_crest750', 'winddir_crest750', 't_upstream700',\n",
       "       'windspeed_upstream700', 'winddir_upstream700', 't_crest700',\n",
       "       'windspeed_crest700', 'winddir_crest700', 't_mccall800',\n",
       "       'windspeed_mccall800', 'winddir_mccall800', 't_mccall750',\n",
       "       'windspeed_mccall750', 'winddir_mccall750', 't_mccall700',\n",
       "       'windspeed_mccall700', 'winddir_mccall700', 'Tdiff_jjmc_ahab',\n",
       "       'Tdiff_ahab_crest800', 'Tdiff_jjmc_crest800', 'pressure_jjmc_cos'],\n",
       "      dtype='object')"
      ]
     },
     "execution_count": 30,
     "metadata": {},
     "output_type": "execute_result"
    }
   ],
   "source": [
    "foehn_dataset.columns"
   ]
  },
  {
   "cell_type": "code",
   "execution_count": 31,
   "id": "c91ae4ff-75e5-480e-916a-e8816d61fc34",
   "metadata": {},
   "outputs": [],
   "source": [
    "#Tdiff AHAB\n",
    "for point in [\"upstream\", \"crest\", \"mccall\"]:\n",
    "    foehn_dataset[f\"tdiff_ahab_{point}800\"] = foehn_dataset[\"3m_T_ahab\"] - foehn_dataset[f\"t_{point}800\"]\n",
    "    foehn_dataset[f\"tdiff_jjmc_{point}800\"] = foehn_dataset[\"2m_T_jjmc\"] - foehn_dataset[f\"t_{point}800\"]\n",
    "\n",
    "#Tdiff McCall\n",
    "foehn_dataset[\"tdiff_mccall800_crest800\"] = foehn_dataset[\"t_mccall800\"] - foehn_dataset[\"t_crest800\"]\n",
    "foehn_dataset[\"tdiff_mccall800_crest750\"] = foehn_dataset[\"t_mccall800\"] - foehn_dataset[\"t_crest750\"]"
   ]
  },
  {
   "cell_type": "markdown",
   "id": "61c970aa-2465-4b77-8625-8422395f3724",
   "metadata": {},
   "source": [
    "### only data after 17.08.2008"
   ]
  },
  {
   "cell_type": "code",
   "execution_count": 32,
   "id": "7c827303-f734-4906-abe6-0837647e23c9",
   "metadata": {},
   "outputs": [],
   "source": [
    "foehn_dataset = foehn_dataset[\"2008-08-17 01:00:00\":]"
   ]
  },
  {
   "cell_type": "code",
   "execution_count": null,
   "id": "a81819f0-0422-4df6-9b05-01430ccd884c",
   "metadata": {},
   "outputs": [],
   "source": []
  },
  {
   "cell_type": "markdown",
   "id": "268c082c-8f90-4ced-bb13-d1df918289bf",
   "metadata": {},
   "source": [
    "# Foehnix models"
   ]
  },
  {
   "cell_type": "code",
   "execution_count": 33,
   "id": "3e90817c-f86d-4064-97a1-6526cb31549f",
   "metadata": {},
   "outputs": [],
   "source": [
    "#filter for ahab\n",
    "#filter1_ahab = {'winddir_crest800':[90, 270]}\n",
    "filter1_ahab = {'winddir_crest800':[90, 270], 'winddir_ahab':[90, 270]}\n",
    "filter1_era5 = {'winddir_crest800':[90, 270], 'winddir_mccall800':[90, 270]}\n",
    "#filter2_ahab = {'winddir_crest800':[110, 250]}\n",
    "filter2_ahab = {'winddir_crest800':[90, 270], 'winddir_ahab':[80, 280]}\n",
    "filter2_era5 = {'winddir_crest800':[110, 250], 'winddir_mccall800':[110, 250]}"
   ]
  },
  {
   "cell_type": "code",
   "execution_count": null,
   "id": "4bcfb251-3cd4-485b-9b0e-51ed0a390ffe",
   "metadata": {},
   "outputs": [],
   "source": []
  },
  {
   "cell_type": "code",
   "execution_count": 34,
   "id": "5c2fbc10-0b00-4578-92d6-03c29ba8cb4f",
   "metadata": {
    "collapsed": true,
    "jupyter": {
     "outputs_hidden": true
    },
    "tags": []
   },
   "outputs": [
    {
     "name": "stderr",
     "output_type": "stream",
     "text": [
      "2024-08-30 16:48:47: foehnix.foehnix_filter: Applied limit-filter [90.0 270.0] to key winddir_crest800\n",
      "2024-08-30 16:48:47: foehnix.foehnix_filter: Applied limit-filter [90.0 270.0] to key winddir_ahab\n",
      "2024-08-30 16:48:47: foehnix.foehnix: Calling Foehnix.unreg_fit\n",
      "2024-08-30 16:48:47: foehnix.foehnix: EM iteration 1/200, ll =  -56755.73\n",
      "2024-08-30 16:48:47: foehnix.foehnix: EM iteration 2/200, ll =  -55515.91\n",
      "2024-08-30 16:48:48: foehnix.foehnix: EM iteration 3/200, ll =  -54899.12\n",
      "2024-08-30 16:48:48: foehnix.foehnix: EM iteration 4/200, ll =  -54554.58\n",
      "2024-08-30 16:48:48: foehnix.foehnix: EM iteration 5/200, ll =  -54360.47\n",
      "2024-08-30 16:48:48: foehnix.foehnix: EM iteration 6/200, ll =  -54253.23\n",
      "2024-08-30 16:48:48: foehnix.foehnix: EM iteration 7/200, ll =  -54196.58\n",
      "2024-08-30 16:48:48: foehnix.foehnix: EM iteration 8/200, ll =  -54169.32\n",
      "2024-08-30 16:48:48: foehnix.foehnix: EM iteration 9/200, ll =  -54158.99\n",
      "2024-08-30 16:48:48: foehnix.foehnix: EM iteration 10/200, ll =  -54158.25\n",
      "2024-08-30 16:48:48: foehnix.foehnix: EM iteration 11/200, ll =  -54162.81\n",
      "2024-08-30 16:48:48: foehnix.foehnix: Estimation finished, create final object.\n",
      "2024-08-30 16:48:48: foehnix.foehnix_filter: Applied limit-filter [90.0 270.0] to key winddir_crest800\n",
      "2024-08-30 16:48:48: foehnix.foehnix_filter: Applied limit-filter [80.0 280.0] to key winddir_ahab\n",
      "2024-08-30 16:48:48: foehnix.foehnix: Calling Foehnix.unreg_fit\n",
      "2024-08-30 16:48:49: foehnix.foehnix: EM iteration 1/200, ll =  -58396.07\n",
      "2024-08-30 16:48:49: foehnix.foehnix: EM iteration 2/200, ll =  -57076.31\n",
      "2024-08-30 16:48:49: foehnix.foehnix: EM iteration 3/200, ll =  -56421.64\n",
      "2024-08-30 16:48:49: foehnix.foehnix: EM iteration 4/200, ll =  -56059.98\n",
      "2024-08-30 16:48:49: foehnix.foehnix: EM iteration 5/200, ll =  -55859.59\n",
      "2024-08-30 16:48:49: foehnix.foehnix: EM iteration 6/200, ll =  -55751.49\n",
      "2024-08-30 16:48:49: foehnix.foehnix: EM iteration 7/200, ll =  -55696.50\n",
      "2024-08-30 16:48:49: foehnix.foehnix: EM iteration 8/200, ll =  -55671.98\n",
      "2024-08-30 16:48:49: foehnix.foehnix: EM iteration 9/200, ll =  -55664.72\n",
      "2024-08-30 16:48:50: foehnix.foehnix: EM iteration 10/200, ll =  -55667.03\n",
      "2024-08-30 16:48:50: foehnix.foehnix: Estimation finished, create final object.\n",
      "2024-08-30 16:48:50: foehnix.foehnix_filter: Applied limit-filter [90.0 270.0] to key winddir_crest800\n",
      "2024-08-30 16:48:50: foehnix.foehnix_filter: Applied limit-filter [90.0 270.0] to key winddir_mccall800\n",
      "2024-08-30 16:48:50: foehnix.foehnix: Calling Foehnix.unreg_fit\n",
      "2024-08-30 16:48:50: foehnix.foehnix: EM iteration 1/100, ll =  -73271.16\n",
      "2024-08-30 16:48:50: foehnix.foehnix: EM iteration 2/100, ll =  -71635.72\n",
      "2024-08-30 16:48:50: foehnix.foehnix: EM iteration 3/100, ll =  -70822.25\n",
      "2024-08-30 16:48:51: foehnix.foehnix: EM iteration 4/100, ll =  -70367.89\n",
      "2024-08-30 16:48:51: foehnix.foehnix: EM iteration 5/100, ll =  -70111.82\n",
      "2024-08-30 16:48:51: foehnix.foehnix: EM iteration 6/100, ll =  -69969.73\n",
      "2024-08-30 16:48:51: foehnix.foehnix: EM iteration 7/100, ll =  -69893.57\n",
      "2024-08-30 16:48:51: foehnix.foehnix: EM iteration 8/100, ll =  -69855.44\n",
      "2024-08-30 16:48:51: foehnix.foehnix: EM iteration 9/100, ll =  -69839.08\n",
      "2024-08-30 16:48:51: foehnix.foehnix: EM iteration 10/100, ll =  -69835.00\n",
      "2024-08-30 16:48:52: foehnix.foehnix: EM iteration 11/100, ll =  -69837.71\n",
      "2024-08-30 16:48:52: foehnix.foehnix: Estimation finished, create final object.\n"
     ]
    }
   ],
   "source": [
    "#model setup 1\n",
    "#model 1 wind speed principal, Tdiff ahab - 800hPa and RH JJMC concomitant\n",
    "mod_tdiffahab_filter1 = foehnix.Foehnix(\"windspeed_ahab\", foehn_dataset,  \n",
    "                         concomitant = [\"Tdiff_ahab_crest800\", \"RH_ahab\"], filter_method = filter1_ahab, switch = False, maxit = 200)\n",
    "mod_tdiffahab_filter2 = foehnix.Foehnix(\"windspeed_ahab\", foehn_dataset,   \n",
    "                         concomitant = [\"Tdiff_ahab_crest800\", \"RH_ahab\"], filter_method = filter2_ahab, switch = False, maxit = 200)\n",
    "\n",
    "mod_tdiffera5_filter1 = foehnix.Foehnix(\"windspeed_ahab\", foehn_dataset,  \n",
    "                         concomitant = [\"Tdiff_ahab_crest800\", \"RH_ahab\"], filter_method = filter1_era5, switch = False)\n",
    "#mod_tdiffera5_filter2 = foehnix.Foehnix(\"windspeed_ahab\", foehn_dataset,  \n",
    "#                         concomitant = [\"Tdiff_ahab_crest800\", \"RH_ahab\"], filter_method = filter2_era5, maxit = 200, switch = False)\n",
    "\n",
    "#mod_era5only_wind_t800 = foehnix.Foehnix(\"windspeed_mccall800\", foehn_dataset,\n",
    " #                                   concomitant = \"tdiff_mccall800_crest800\", filter_method = filter1_era5, maxit = 500, switch = False)\n",
    "#mod_era5only_wind_t750 = foehnix.Foehnix(\"windspeed_mccall800\", foehn_dataset,\n",
    "#                                    concomitant = \"tdiff_mccall800_crest750\", filter_method = filter1_era5, maxit = 500, switch = False)\n",
    "#mod_era5only_t800_wind = foehnix.Foehnix(\"tdiff_mccall800_crest800\", foehn_dataset,\n",
    "#                                    concomitant = \"windspeed_mccall800\", filter_method = filter1_era5, maxit = 500, switch = False)\n",
    "#mod_era5only_t750_wind = foehnix.Foehnix(\"tdiff_mccall800_crest750\", foehn_dataset,\n",
    "#                                    concomitant = \"windspeed_mccall800\", filter_method = filter1_era5, maxit = 500, switch = False)\n"
   ]
  },
  {
   "cell_type": "code",
   "execution_count": 35,
   "id": "807f20b8-ae53-4095-8351-8a11611d6ed3",
   "metadata": {
    "tags": []
   },
   "outputs": [
    {
     "ename": "NameError",
     "evalue": "name 'mod_era5only_t800_wind' is not defined",
     "output_type": "error",
     "traceback": [
      "\u001b[1;31m---------------------------------------------------------------------------\u001b[0m",
      "\u001b[1;31mNameError\u001b[0m                                 Traceback (most recent call last)",
      "\u001b[1;32m~\\AppData\\Local\\Temp\\ipykernel_17320\\1107050675.py\u001b[0m in \u001b[0;36m<module>\u001b[1;34m\u001b[0m\n\u001b[1;32m----> 1\u001b[1;33m \u001b[0mmod_era5only_t800_wind\u001b[0m\u001b[1;33m.\u001b[0m\u001b[0msummary\u001b[0m\u001b[1;33m(\u001b[0m\u001b[1;33m)\u001b[0m\u001b[1;33m\u001b[0m\u001b[1;33m\u001b[0m\u001b[0m\n\u001b[0m",
      "\u001b[1;31mNameError\u001b[0m: name 'mod_era5only_t800_wind' is not defined"
     ]
    }
   ],
   "source": [
    "mod_era5only_t800_wind.summary()"
   ]
  },
  {
   "cell_type": "code",
   "execution_count": 36,
   "id": "0b8ee51d-e400-4507-a745-b10bab91e9ea",
   "metadata": {
    "tags": []
   },
   "outputs": [
    {
     "name": "stdout",
     "output_type": "stream",
     "text": [
      "\n",
      "Number of observations (total)    55871 (0 due to inflation)\n",
      "Removed due to missing values      7192 (12.9 percent)\n",
      "Outside defined wind sector       21502 (38.5 percent)\n",
      "Used for classification           27177 (48.6 percent)\n",
      "\n",
      "Climatological foehn occurance 13.36 percent (on n = 48679)\n",
      "Mean foehn probability 17.19 percent (on n = 48679)\n",
      "\n",
      "Log-likelihood: -69835.0, 7 effective degrees of freedom\n",
      "Corresponding AIC = 139684.0, BIC = 139741.5\n",
      "\n",
      "Number of EM iterations 11/100 (converged)\n",
      "Time required for model estimation: 1.9 seconds\n"
     ]
    }
   ],
   "source": [
    "mod_tdiffera5_filter1.summary()"
   ]
  },
  {
   "cell_type": "code",
   "execution_count": 37,
   "id": "a9286175-9fd4-49b9-80d5-f0c39d64f5c3",
   "metadata": {},
   "outputs": [
    {
     "data": {
      "text/plain": [
       "mu1                                                      2.166367\n",
       "logsd1                                                   0.267636\n",
       "mu2                                                      6.031428\n",
       "logsd2                                                   1.149253\n",
       "concomitants    Intercept             -0.340352\n",
       "Tdiff_ahab_cre...\n",
       "dtype: object"
      ]
     },
     "execution_count": 37,
     "metadata": {},
     "output_type": "execute_result"
    }
   ],
   "source": [
    "mod_tdiffera5_filter1.coef"
   ]
  },
  {
   "cell_type": "code",
   "execution_count": 38,
   "id": "ffe7ba88-a32d-454c-8f62-7d3017a20f76",
   "metadata": {},
   "outputs": [
    {
     "data": {
      "text/plain": [
       "Intercept             -0.340352\n",
       "Tdiff_ahab_crest800   -0.067708\n",
       "RH_ahab               -0.008465\n",
       "dtype: float64"
      ]
     },
     "execution_count": 38,
     "metadata": {},
     "output_type": "execute_result"
    }
   ],
   "source": [
    "mod_tdiffera5_filter1.coef.concomitants"
   ]
  },
  {
   "cell_type": "code",
   "execution_count": 39,
   "id": "76391399-eae2-44ad-ae98-7d1b698f34da",
   "metadata": {},
   "outputs": [],
   "source": [
    "#add probability of ahab foehnix model to dataframe\n",
    "foehn_dataset[\"prob_ahab_filter1\"] = mod_tdiffahab_filter1.prob[\"prob\"].copy().values\n",
    "foehn_dataset[\"prob_era5_filter1\"] = mod_tdiffera5_filter1.prob[\"prob\"].copy().values\n",
    "foehn_dataset[\"prob_ahab_filter2\"] = mod_tdiffahab_filter2.prob[\"prob\"].copy().values\n",
    "#foehn_dataset[\"prob_era5_filter2\"] = mod_tdiffera5_filter2.prob[\"prob\"].copy().values\n",
    "#foehn_dataset[\"prob_era5_only\"] = mod_era5only_t800_wind.prob[\"prob\"].copy().values\n",
    "\n",
    "#pairwise maximum\n",
    "#foehn_dataset[\"prob_combined_filter1\"] = foehn_dataset[[\"prob_ahab_filter1\", \"prob_era5_filter1\"]].max(axis=1)\n",
    "#foehn_dataset[\"prob_combined_filter2\"] = foehn_dataset[[\"prob_ahab_filter2\", \"prob_era5_filter2\"]].max(axis=1)"
   ]
  },
  {
   "cell_type": "code",
   "execution_count": 40,
   "id": "df1f8608-cd00-4ce7-af75-9fa606704e22",
   "metadata": {},
   "outputs": [],
   "source": [
    "#filter for jjmc\n",
    "filterjjmc1 = {'3m_Winddir_jjmc':[110, 240], 'winddir_crest800':[90, 270], \n",
    "              'winddir_mccall800':[90, 270], 'prob_era5_filter1':[0.5, 1.01]} #   \n",
    "filterjjmc2 = {'3m_Winddir_jjmc':[110, 240], 'winddir_crest800':[90, 270], \n",
    "               'winddir_ahab':[90, 270], 'prob_ahab_filter1':[0.5, 1.01]} # \n",
    "filterjjmc3 = {'3m_Winddir_jjmc':[110, 240], 'winddir_crest800':[90, 270], \n",
    "              'winddir_ahab':[80, 280], 'prob_ahab_filter2':[0.5, 1.01]}"
   ]
  },
  {
   "cell_type": "code",
   "execution_count": 41,
   "id": "2ee7493c-1c72-44c3-9728-2be09279d99f",
   "metadata": {
    "collapsed": true,
    "jupyter": {
     "outputs_hidden": true
    },
    "tags": []
   },
   "outputs": [
    {
     "name": "stderr",
     "output_type": "stream",
     "text": [
      "2024-08-30 16:49:53: foehnix.foehnix_filter: Applied limit-filter [110.0 240.0] to key 3m_Winddir_jjmc\n",
      "2024-08-30 16:49:53: foehnix.foehnix_filter: Applied limit-filter [90.0 270.0] to key winddir_crest800\n",
      "2024-08-30 16:49:53: foehnix.foehnix_filter: Applied limit-filter [90.0 270.0] to key winddir_mccall800\n",
      "2024-08-30 16:49:53: foehnix.foehnix_filter: Applied limit-filter [0.5 1.0] to key prob_era5_filter1\n",
      "2024-08-30 16:49:53: foehnix.foehnix: Calling Foehnix.unreg_fit\n",
      "2024-08-30 16:49:53: foehnix.foehnix: EM iteration 1/700, ll =  -12616.82\n",
      "2024-08-30 16:49:53: foehnix.foehnix: EM iteration 2/700, ll =  -12312.70\n",
      "2024-08-30 16:49:53: foehnix.foehnix: EM iteration 3/700, ll =  -12124.55\n",
      "2024-08-30 16:49:53: foehnix.foehnix: EM iteration 4/700, ll =  -12001.78\n",
      "2024-08-30 16:49:53: foehnix.foehnix: EM iteration 5/700, ll =  -11915.68\n",
      "2024-08-30 16:49:53: foehnix.foehnix: EM iteration 6/700, ll =  -11851.04\n",
      "2024-08-30 16:49:53: foehnix.foehnix: EM iteration 7/700, ll =  -11800.24\n",
      "2024-08-30 16:49:53: foehnix.foehnix: EM iteration 8/700, ll =  -11759.28\n",
      "2024-08-30 16:49:53: foehnix.foehnix: EM iteration 9/700, ll =  -11725.82\n",
      "2024-08-30 16:49:53: foehnix.foehnix: EM iteration 10/700, ll =  -11698.31\n",
      "2024-08-30 16:49:53: foehnix.foehnix: EM iteration 11/700, ll =  -11675.62\n",
      "2024-08-30 16:49:53: foehnix.foehnix: EM iteration 12/700, ll =  -11656.87\n",
      "2024-08-30 16:49:53: foehnix.foehnix: EM iteration 13/700, ll =  -11641.35\n",
      "2024-08-30 16:49:53: foehnix.foehnix: EM iteration 14/700, ll =  -11628.50\n",
      "2024-08-30 16:49:53: foehnix.foehnix: EM iteration 15/700, ll =  -11617.87\n",
      "2024-08-30 16:49:53: foehnix.foehnix: EM iteration 16/700, ll =  -11609.05\n",
      "2024-08-30 16:49:53: foehnix.foehnix: EM iteration 17/700, ll =  -11601.76\n",
      "2024-08-30 16:49:53: foehnix.foehnix: EM iteration 18/700, ll =  -11595.72\n",
      "2024-08-30 16:49:53: foehnix.foehnix: EM iteration 19/700, ll =  -11590.72\n",
      "2024-08-30 16:49:53: foehnix.foehnix: EM iteration 20/700, ll =  -11586.59\n",
      "2024-08-30 16:49:53: foehnix.foehnix: EM iteration 21/700, ll =  -11583.19\n",
      "2024-08-30 16:49:53: foehnix.foehnix: EM iteration 22/700, ll =  -11580.39\n",
      "2024-08-30 16:49:53: foehnix.foehnix: EM iteration 23/700, ll =  -11578.08\n",
      "2024-08-30 16:49:53: foehnix.foehnix: EM iteration 24/700, ll =  -11576.20\n",
      "2024-08-30 16:49:54: foehnix.foehnix: EM iteration 25/700, ll =  -11574.65\n",
      "2024-08-30 16:49:54: foehnix.foehnix: EM iteration 26/700, ll =  -11573.40\n",
      "2024-08-30 16:49:54: foehnix.foehnix: EM iteration 27/700, ll =  -11572.38\n",
      "2024-08-30 16:49:54: foehnix.foehnix: EM iteration 28/700, ll =  -11571.56\n",
      "2024-08-30 16:49:54: foehnix.foehnix: EM iteration 29/700, ll =  -11570.90\n",
      "2024-08-30 16:49:54: foehnix.foehnix: EM iteration 30/700, ll =  -11570.38\n",
      "2024-08-30 16:49:54: foehnix.foehnix: EM iteration 31/700, ll =  -11569.97\n",
      "2024-08-30 16:49:54: foehnix.foehnix: EM iteration 32/700, ll =  -11569.65\n",
      "2024-08-30 16:49:54: foehnix.foehnix: EM iteration 33/700, ll =  -11569.41\n",
      "2024-08-30 16:49:54: foehnix.foehnix: EM iteration 34/700, ll =  -11569.23\n",
      "2024-08-30 16:49:54: foehnix.foehnix: EM iteration 35/700, ll =  -11569.09\n",
      "2024-08-30 16:49:54: foehnix.foehnix: EM iteration 36/700, ll =  -11569.00\n",
      "2024-08-30 16:49:54: foehnix.foehnix: EM iteration 37/700, ll =  -11568.93\n",
      "2024-08-30 16:49:54: foehnix.foehnix: EM iteration 38/700, ll =  -11568.90\n",
      "2024-08-30 16:49:54: foehnix.foehnix: EM iteration 39/700, ll =  -11568.88\n",
      "2024-08-30 16:49:54: foehnix.foehnix: EM iteration 40/700, ll =  -11568.88\n",
      "2024-08-30 16:49:54: foehnix.foehnix: Estimation finished, create final object.\n",
      "2024-08-30 16:49:54: foehnix.foehnix_filter: Applied limit-filter [110.0 240.0] to key 3m_Winddir_jjmc\n",
      "2024-08-30 16:49:54: foehnix.foehnix_filter: Applied limit-filter [90.0 270.0] to key winddir_crest800\n",
      "2024-08-30 16:49:54: foehnix.foehnix_filter: Applied limit-filter [90.0 270.0] to key winddir_ahab\n",
      "2024-08-30 16:49:54: foehnix.foehnix_filter: Applied limit-filter [0.5 1.0] to key prob_ahab_filter1\n",
      "2024-08-30 16:49:54: foehnix.foehnix: Calling Foehnix.unreg_fit\n",
      "2024-08-30 16:49:54: foehnix.foehnix: EM iteration 1/600, ll =   -9955.23\n",
      "2024-08-30 16:49:54: foehnix.foehnix: EM iteration 2/600, ll =   -9695.72\n",
      "2024-08-30 16:49:54: foehnix.foehnix: EM iteration 3/600, ll =   -9545.22\n",
      "2024-08-30 16:49:54: foehnix.foehnix: EM iteration 4/600, ll =   -9453.93\n",
      "2024-08-30 16:49:54: foehnix.foehnix: EM iteration 5/600, ll =   -9393.39\n",
      "2024-08-30 16:49:54: foehnix.foehnix: EM iteration 6/600, ll =   -9349.50\n",
      "2024-08-30 16:49:54: foehnix.foehnix: EM iteration 7/600, ll =   -9315.70\n",
      "2024-08-30 16:49:54: foehnix.foehnix: EM iteration 8/600, ll =   -9288.78\n",
      "2024-08-30 16:49:54: foehnix.foehnix: EM iteration 9/600, ll =   -9266.93\n",
      "2024-08-30 16:49:54: foehnix.foehnix: EM iteration 10/600, ll =   -9249.01\n",
      "2024-08-30 16:49:54: foehnix.foehnix: EM iteration 11/600, ll =   -9234.22\n",
      "2024-08-30 16:49:54: foehnix.foehnix: EM iteration 12/600, ll =   -9221.94\n",
      "2024-08-30 16:49:54: foehnix.foehnix: EM iteration 13/600, ll =   -9211.70\n",
      "2024-08-30 16:49:54: foehnix.foehnix: EM iteration 14/600, ll =   -9203.13\n",
      "2024-08-30 16:49:54: foehnix.foehnix: EM iteration 15/600, ll =   -9195.94\n",
      "2024-08-30 16:49:54: foehnix.foehnix: EM iteration 16/600, ll =   -9189.89\n",
      "2024-08-30 16:49:54: foehnix.foehnix: EM iteration 17/600, ll =   -9184.77\n",
      "2024-08-30 16:49:54: foehnix.foehnix: EM iteration 18/600, ll =   -9180.44\n",
      "2024-08-30 16:49:54: foehnix.foehnix: EM iteration 19/600, ll =   -9176.77\n",
      "2024-08-30 16:49:54: foehnix.foehnix: EM iteration 20/600, ll =   -9173.64\n",
      "2024-08-30 16:49:55: foehnix.foehnix: EM iteration 21/600, ll =   -9170.97\n",
      "2024-08-30 16:49:55: foehnix.foehnix: EM iteration 22/600, ll =   -9168.69\n",
      "2024-08-30 16:49:55: foehnix.foehnix: EM iteration 23/600, ll =   -9166.73\n",
      "2024-08-30 16:49:55: foehnix.foehnix: EM iteration 24/600, ll =   -9165.05\n",
      "2024-08-30 16:49:55: foehnix.foehnix: EM iteration 25/600, ll =   -9163.60\n",
      "2024-08-30 16:49:55: foehnix.foehnix: EM iteration 26/600, ll =   -9162.35\n",
      "2024-08-30 16:49:55: foehnix.foehnix: EM iteration 27/600, ll =   -9161.27\n",
      "2024-08-30 16:49:55: foehnix.foehnix: EM iteration 28/600, ll =   -9160.34\n",
      "2024-08-30 16:49:55: foehnix.foehnix: EM iteration 29/600, ll =   -9159.52\n",
      "2024-08-30 16:49:55: foehnix.foehnix: EM iteration 30/600, ll =   -9158.81\n",
      "2024-08-30 16:49:55: foehnix.foehnix: EM iteration 31/600, ll =   -9158.19\n",
      "2024-08-30 16:49:55: foehnix.foehnix: EM iteration 32/600, ll =   -9157.65\n",
      "2024-08-30 16:49:55: foehnix.foehnix: EM iteration 33/600, ll =   -9157.17\n",
      "2024-08-30 16:49:55: foehnix.foehnix: EM iteration 34/600, ll =   -9156.75\n",
      "2024-08-30 16:49:55: foehnix.foehnix: EM iteration 35/600, ll =   -9156.38\n",
      "2024-08-30 16:49:55: foehnix.foehnix: EM iteration 36/600, ll =   -9156.05\n",
      "2024-08-30 16:49:55: foehnix.foehnix: EM iteration 37/600, ll =   -9155.76\n",
      "2024-08-30 16:49:55: foehnix.foehnix: EM iteration 38/600, ll =   -9155.50\n",
      "2024-08-30 16:49:55: foehnix.foehnix: EM iteration 39/600, ll =   -9155.27\n",
      "2024-08-30 16:49:55: foehnix.foehnix: EM iteration 40/600, ll =   -9155.07\n",
      "2024-08-30 16:49:55: foehnix.foehnix: EM iteration 41/600, ll =   -9154.89\n",
      "2024-08-30 16:49:55: foehnix.foehnix: EM iteration 42/600, ll =   -9154.72\n",
      "2024-08-30 16:49:55: foehnix.foehnix: EM iteration 43/600, ll =   -9154.58\n",
      "2024-08-30 16:49:55: foehnix.foehnix: EM iteration 44/600, ll =   -9154.45\n",
      "2024-08-30 16:49:55: foehnix.foehnix: EM iteration 45/600, ll =   -9154.33\n",
      "2024-08-30 16:49:55: foehnix.foehnix: EM iteration 46/600, ll =   -9154.22\n",
      "2024-08-30 16:49:55: foehnix.foehnix: EM iteration 47/600, ll =   -9154.12\n",
      "2024-08-30 16:49:55: foehnix.foehnix: EM iteration 48/600, ll =   -9154.04\n",
      "2024-08-30 16:49:55: foehnix.foehnix: EM iteration 49/600, ll =   -9153.96\n",
      "2024-08-30 16:49:55: foehnix.foehnix: EM iteration 50/600, ll =   -9153.89\n",
      "2024-08-30 16:49:55: foehnix.foehnix: EM iteration 51/600, ll =   -9153.82\n",
      "2024-08-30 16:49:55: foehnix.foehnix: EM iteration 52/600, ll =   -9153.76\n",
      "2024-08-30 16:49:55: foehnix.foehnix: EM iteration 53/600, ll =   -9153.71\n",
      "2024-08-30 16:49:55: foehnix.foehnix: EM iteration 54/600, ll =   -9153.66\n",
      "2024-08-30 16:49:55: foehnix.foehnix: EM iteration 55/600, ll =   -9153.62\n",
      "2024-08-30 16:49:55: foehnix.foehnix: EM iteration 56/600, ll =   -9153.58\n",
      "2024-08-30 16:49:55: foehnix.foehnix: EM iteration 57/600, ll =   -9153.54\n",
      "2024-08-30 16:49:55: foehnix.foehnix: EM iteration 58/600, ll =   -9153.50\n",
      "2024-08-30 16:49:55: foehnix.foehnix: EM iteration 59/600, ll =   -9153.47\n",
      "2024-08-30 16:49:55: foehnix.foehnix: EM iteration 60/600, ll =   -9153.45\n",
      "2024-08-30 16:49:55: foehnix.foehnix: EM iteration 61/600, ll =   -9153.42\n",
      "2024-08-30 16:49:55: foehnix.foehnix: EM iteration 62/600, ll =   -9153.40\n",
      "2024-08-30 16:49:55: foehnix.foehnix: EM iteration 63/600, ll =   -9153.37\n",
      "2024-08-30 16:49:56: foehnix.foehnix: EM iteration 64/600, ll =   -9153.35\n",
      "2024-08-30 16:49:56: foehnix.foehnix: EM iteration 65/600, ll =   -9153.34\n",
      "2024-08-30 16:49:56: foehnix.foehnix: EM iteration 66/600, ll =   -9153.32\n",
      "2024-08-30 16:49:56: foehnix.foehnix: EM iteration 67/600, ll =   -9153.30\n",
      "2024-08-30 16:49:56: foehnix.foehnix: EM iteration 68/600, ll =   -9153.29\n",
      "2024-08-30 16:49:56: foehnix.foehnix: EM iteration 69/600, ll =   -9153.28\n",
      "2024-08-30 16:49:56: foehnix.foehnix: EM iteration 70/600, ll =   -9153.27\n",
      "2024-08-30 16:49:56: foehnix.foehnix: EM iteration 71/600, ll =   -9153.25\n",
      "2024-08-30 16:49:56: foehnix.foehnix: EM iteration 72/600, ll =   -9153.24\n",
      "2024-08-30 16:49:56: foehnix.foehnix: EM iteration 73/600, ll =   -9153.24\n",
      "2024-08-30 16:49:56: foehnix.foehnix: EM iteration 74/600, ll =   -9153.23\n",
      "2024-08-30 16:49:56: foehnix.foehnix: EM iteration 75/600, ll =   -9153.22\n",
      "2024-08-30 16:49:56: foehnix.foehnix: EM iteration 76/600, ll =   -9153.21\n",
      "2024-08-30 16:49:56: foehnix.foehnix: EM iteration 77/600, ll =   -9153.21\n",
      "2024-08-30 16:49:56: foehnix.foehnix: EM iteration 78/600, ll =   -9153.20\n",
      "2024-08-30 16:49:56: foehnix.foehnix: EM iteration 79/600, ll =   -9153.19\n",
      "2024-08-30 16:49:56: foehnix.foehnix: EM iteration 80/600, ll =   -9153.19\n",
      "2024-08-30 16:49:56: foehnix.foehnix: EM iteration 81/600, ll =   -9153.18\n",
      "2024-08-30 16:49:56: foehnix.foehnix: EM iteration 82/600, ll =   -9153.18\n",
      "2024-08-30 16:49:56: foehnix.foehnix: EM iteration 83/600, ll =   -9153.18\n",
      "2024-08-30 16:49:56: foehnix.foehnix: EM iteration 84/600, ll =   -9153.17\n",
      "2024-08-30 16:49:56: foehnix.foehnix: EM iteration 85/600, ll =   -9153.17\n",
      "2024-08-30 16:49:56: foehnix.foehnix: EM iteration 86/600, ll =   -9153.17\n",
      "2024-08-30 16:49:56: foehnix.foehnix: EM iteration 87/600, ll =   -9153.16\n",
      "2024-08-30 16:49:56: foehnix.foehnix: EM iteration 88/600, ll =   -9153.16\n",
      "2024-08-30 16:49:56: foehnix.foehnix: EM iteration 89/600, ll =   -9153.16\n",
      "2024-08-30 16:49:56: foehnix.foehnix: EM iteration 90/600, ll =   -9153.15\n",
      "2024-08-30 16:49:56: foehnix.foehnix: EM iteration 91/600, ll =   -9153.15\n",
      "2024-08-30 16:49:56: foehnix.foehnix: EM iteration 92/600, ll =   -9153.15\n",
      "2024-08-30 16:49:56: foehnix.foehnix: EM iteration 93/600, ll =   -9153.15\n",
      "2024-08-30 16:49:56: foehnix.foehnix: EM iteration 94/600, ll =   -9153.15\n",
      "2024-08-30 16:49:56: foehnix.foehnix: EM iteration 95/600, ll =   -9153.15\n",
      "2024-08-30 16:49:56: foehnix.foehnix: EM iteration 96/600, ll =   -9153.14\n",
      "2024-08-30 16:49:56: foehnix.foehnix: EM iteration 97/600, ll =   -9153.14\n",
      "2024-08-30 16:49:56: foehnix.foehnix: EM iteration 98/600, ll =   -9153.14\n",
      "2024-08-30 16:49:56: foehnix.foehnix: EM iteration 99/600, ll =   -9153.14\n",
      "2024-08-30 16:49:56: foehnix.foehnix: EM iteration 100/600, ll =   -9153.14\n",
      "2024-08-30 16:49:56: foehnix.foehnix: EM iteration 101/600, ll =   -9153.14\n",
      "2024-08-30 16:49:56: foehnix.foehnix: EM iteration 102/600, ll =   -9153.14\n",
      "2024-08-30 16:49:56: foehnix.foehnix: EM iteration 103/600, ll =   -9153.14\n",
      "2024-08-30 16:49:56: foehnix.foehnix: EM iteration 104/600, ll =   -9153.14\n",
      "2024-08-30 16:49:56: foehnix.foehnix: EM iteration 105/600, ll =   -9153.14\n",
      "2024-08-30 16:49:56: foehnix.foehnix: EM iteration 106/600, ll =   -9153.14\n",
      "2024-08-30 16:49:56: foehnix.foehnix: EM iteration 107/600, ll =   -9153.14\n",
      "2024-08-30 16:49:56: foehnix.foehnix: EM iteration 108/600, ll =   -9153.13\n",
      "2024-08-30 16:49:57: foehnix.foehnix: EM iteration 109/600, ll =   -9153.13\n",
      "2024-08-30 16:49:57: foehnix.foehnix: EM iteration 110/600, ll =   -9153.13\n",
      "2024-08-30 16:49:57: foehnix.foehnix: EM iteration 111/600, ll =   -9153.13\n",
      "2024-08-30 16:49:57: foehnix.foehnix: EM iteration 112/600, ll =   -9153.13\n",
      "2024-08-30 16:49:57: foehnix.foehnix: EM iteration 113/600, ll =   -9153.13\n",
      "2024-08-30 16:49:57: foehnix.foehnix: EM iteration 114/600, ll =   -9153.13\n",
      "2024-08-30 16:49:57: foehnix.foehnix: EM iteration 115/600, ll =   -9153.13\n",
      "2024-08-30 16:49:57: foehnix.foehnix: EM iteration 116/600, ll =   -9153.13\n",
      "2024-08-30 16:49:57: foehnix.foehnix: EM iteration 117/600, ll =   -9153.13\n",
      "2024-08-30 16:49:57: foehnix.foehnix: EM iteration 118/600, ll =   -9153.13\n",
      "2024-08-30 16:49:57: foehnix.foehnix: EM iteration 119/600, ll =   -9153.13\n",
      "2024-08-30 16:49:57: foehnix.foehnix: EM iteration 120/600, ll =   -9153.13\n",
      "2024-08-30 16:49:57: foehnix.foehnix: EM iteration 121/600, ll =   -9153.13\n",
      "2024-08-30 16:49:57: foehnix.foehnix: EM iteration 122/600, ll =   -9153.13\n",
      "2024-08-30 16:49:57: foehnix.foehnix: EM iteration 123/600, ll =   -9153.13\n",
      "2024-08-30 16:49:57: foehnix.foehnix: EM iteration 124/600, ll =   -9153.13\n",
      "2024-08-30 16:49:57: foehnix.foehnix: EM iteration 125/600, ll =   -9153.13\n",
      "2024-08-30 16:49:57: foehnix.foehnix: EM iteration 126/600, ll =   -9153.13\n",
      "2024-08-30 16:49:57: foehnix.foehnix: EM iteration 127/600, ll =   -9153.13\n",
      "2024-08-30 16:49:57: foehnix.foehnix: EM iteration 128/600, ll =   -9153.13\n",
      "2024-08-30 16:49:57: foehnix.foehnix: EM iteration 129/600, ll =   -9153.13\n",
      "2024-08-30 16:49:57: foehnix.foehnix: EM iteration 130/600, ll =   -9153.13\n",
      "2024-08-30 16:49:57: foehnix.foehnix: EM iteration 131/600, ll =   -9153.13\n",
      "2024-08-30 16:49:57: foehnix.foehnix: EM iteration 132/600, ll =   -9153.13\n",
      "2024-08-30 16:49:57: foehnix.foehnix: EM iteration 133/600, ll =   -9153.13\n",
      "2024-08-30 16:49:57: foehnix.foehnix: EM iteration 134/600, ll =   -9153.13\n",
      "2024-08-30 16:49:57: foehnix.foehnix: EM iteration 135/600, ll =   -9153.13\n",
      "2024-08-30 16:49:57: foehnix.foehnix: EM iteration 136/600, ll =   -9153.13\n",
      "2024-08-30 16:49:57: foehnix.foehnix: EM iteration 137/600, ll =   -9153.13\n",
      "2024-08-30 16:49:57: foehnix.foehnix: EM iteration 138/600, ll =   -9153.13\n",
      "2024-08-30 16:49:57: foehnix.foehnix: EM iteration 139/600, ll =   -9153.13\n",
      "2024-08-30 16:49:57: foehnix.foehnix: EM iteration 140/600, ll =   -9153.13\n",
      "2024-08-30 16:49:57: foehnix.foehnix: EM iteration 141/600, ll =   -9153.13\n",
      "2024-08-30 16:49:57: foehnix.foehnix: EM iteration 142/600, ll =   -9153.13\n",
      "2024-08-30 16:49:57: foehnix.foehnix: EM iteration 143/600, ll =   -9153.13\n",
      "2024-08-30 16:49:57: foehnix.foehnix: EM iteration 144/600, ll =   -9153.13\n",
      "2024-08-30 16:49:57: foehnix.foehnix: EM iteration 145/600, ll =   -9153.13\n",
      "2024-08-30 16:49:57: foehnix.foehnix: EM iteration 146/600, ll =   -9153.13\n",
      "2024-08-30 16:49:57: foehnix.foehnix: EM iteration 147/600, ll =   -9153.13\n",
      "2024-08-30 16:49:57: foehnix.foehnix: EM iteration 148/600, ll =   -9153.13\n",
      "2024-08-30 16:49:57: foehnix.foehnix: EM iteration 149/600, ll =   -9153.13\n",
      "2024-08-30 16:49:57: foehnix.foehnix: EM iteration 150/600, ll =   -9153.13\n",
      "2024-08-30 16:49:57: foehnix.foehnix: EM iteration 151/600, ll =   -9153.13\n",
      "2024-08-30 16:49:57: foehnix.foehnix: EM iteration 152/600, ll =   -9153.13\n",
      "2024-08-30 16:49:57: foehnix.foehnix: EM iteration 153/600, ll =   -9153.13\n",
      "2024-08-30 16:49:58: foehnix.foehnix: EM iteration 154/600, ll =   -9153.13\n",
      "2024-08-30 16:49:58: foehnix.foehnix: EM iteration 155/600, ll =   -9153.13\n",
      "2024-08-30 16:49:58: foehnix.foehnix: EM iteration 156/600, ll =   -9153.13\n",
      "2024-08-30 16:49:58: foehnix.foehnix: EM iteration 157/600, ll =   -9153.13\n",
      "2024-08-30 16:49:58: foehnix.foehnix: EM iteration 158/600, ll =   -9153.13\n",
      "2024-08-30 16:49:58: foehnix.foehnix: EM iteration 159/600, ll =   -9153.13\n",
      "2024-08-30 16:49:58: foehnix.foehnix: EM iteration 160/600, ll =   -9153.13\n",
      "2024-08-30 16:49:58: foehnix.foehnix: EM iteration 161/600, ll =   -9153.13\n",
      "2024-08-30 16:49:58: foehnix.foehnix: EM iteration 162/600, ll =   -9153.13\n",
      "2024-08-30 16:49:58: foehnix.foehnix: EM iteration 163/600, ll =   -9153.13\n",
      "2024-08-30 16:49:58: foehnix.foehnix: EM iteration 164/600, ll =   -9153.13\n",
      "2024-08-30 16:49:58: foehnix.foehnix: EM iteration 165/600, ll =   -9153.13\n",
      "2024-08-30 16:49:58: foehnix.foehnix: EM iteration 166/600, ll =   -9153.13\n",
      "2024-08-30 16:49:58: foehnix.foehnix: EM iteration 167/600, ll =   -9153.13\n",
      "2024-08-30 16:49:58: foehnix.foehnix: EM iteration 168/600, ll =   -9153.13\n",
      "2024-08-30 16:49:58: foehnix.foehnix: EM iteration 169/600, ll =   -9153.13\n",
      "2024-08-30 16:49:58: foehnix.foehnix: EM iteration 170/600, ll =   -9153.13\n",
      "2024-08-30 16:49:58: foehnix.foehnix: EM iteration 171/600, ll =   -9153.13\n",
      "2024-08-30 16:49:58: foehnix.foehnix: EM iteration 172/600, ll =   -9153.13\n",
      "2024-08-30 16:49:58: foehnix.foehnix: EM iteration 173/600, ll =   -9153.13\n",
      "2024-08-30 16:49:58: foehnix.foehnix: EM iteration 174/600, ll =   -9153.13\n",
      "2024-08-30 16:49:58: foehnix.foehnix: EM iteration 175/600, ll =   -9153.13\n",
      "2024-08-30 16:49:58: foehnix.foehnix: EM iteration 176/600, ll =   -9153.13\n",
      "2024-08-30 16:49:58: foehnix.foehnix: EM iteration 177/600, ll =   -9153.13\n",
      "2024-08-30 16:49:58: foehnix.foehnix: EM iteration 178/600, ll =   -9153.13\n",
      "2024-08-30 16:49:58: foehnix.foehnix: EM iteration 179/600, ll =   -9153.13\n",
      "2024-08-30 16:49:58: foehnix.foehnix: EM iteration 180/600, ll =   -9153.13\n",
      "2024-08-30 16:49:58: foehnix.foehnix: EM iteration 181/600, ll =   -9153.13\n",
      "2024-08-30 16:49:58: foehnix.foehnix: EM iteration 182/600, ll =   -9153.13\n",
      "2024-08-30 16:49:58: foehnix.foehnix: EM iteration 183/600, ll =   -9153.13\n",
      "2024-08-30 16:49:58: foehnix.foehnix: EM iteration 184/600, ll =   -9153.13\n",
      "2024-08-30 16:49:58: foehnix.foehnix: EM iteration 185/600, ll =   -9153.13\n",
      "2024-08-30 16:49:58: foehnix.foehnix: EM iteration 186/600, ll =   -9153.13\n",
      "2024-08-30 16:49:58: foehnix.foehnix: EM iteration 187/600, ll =   -9153.13\n",
      "2024-08-30 16:49:58: foehnix.foehnix: EM iteration 188/600, ll =   -9153.13\n",
      "2024-08-30 16:49:58: foehnix.foehnix: EM iteration 189/600, ll =   -9153.13\n",
      "2024-08-30 16:49:58: foehnix.foehnix: EM iteration 190/600, ll =   -9153.13\n",
      "2024-08-30 16:49:58: foehnix.foehnix: EM iteration 191/600, ll =   -9153.13\n",
      "2024-08-30 16:49:58: foehnix.foehnix: EM iteration 192/600, ll =   -9153.13\n",
      "2024-08-30 16:49:58: foehnix.foehnix: EM iteration 193/600, ll =   -9153.13\n",
      "2024-08-30 16:49:58: foehnix.foehnix: EM iteration 194/600, ll =   -9153.13\n",
      "2024-08-30 16:49:58: foehnix.foehnix: EM iteration 195/600, ll =   -9153.13\n",
      "2024-08-30 16:49:58: foehnix.foehnix: EM iteration 196/600, ll =   -9153.13\n",
      "2024-08-30 16:49:59: foehnix.foehnix: EM iteration 197/600, ll =   -9153.13\n",
      "2024-08-30 16:49:59: foehnix.foehnix: EM iteration 198/600, ll =   -9153.13\n",
      "2024-08-30 16:49:59: foehnix.foehnix: EM iteration 199/600, ll =   -9153.13\n",
      "2024-08-30 16:49:59: foehnix.foehnix: EM iteration 200/600, ll =   -9153.13\n",
      "2024-08-30 16:49:59: foehnix.foehnix: EM iteration 201/600, ll =   -9153.13\n",
      "2024-08-30 16:49:59: foehnix.foehnix: EM iteration 202/600, ll =   -9153.13\n",
      "2024-08-30 16:49:59: foehnix.foehnix: EM iteration 203/600, ll =   -9153.13\n",
      "2024-08-30 16:49:59: foehnix.foehnix: EM iteration 204/600, ll =   -9153.13\n",
      "2024-08-30 16:49:59: foehnix.foehnix: EM iteration 205/600, ll =   -9153.13\n",
      "2024-08-30 16:49:59: foehnix.foehnix: EM iteration 206/600, ll =   -9153.13\n",
      "2024-08-30 16:49:59: foehnix.foehnix: EM iteration 207/600, ll =   -9153.13\n",
      "2024-08-30 16:49:59: foehnix.foehnix: EM iteration 208/600, ll =   -9153.13\n",
      "2024-08-30 16:49:59: foehnix.foehnix: EM iteration 209/600, ll =   -9153.13\n",
      "2024-08-30 16:49:59: foehnix.foehnix: EM iteration 210/600, ll =   -9153.13\n",
      "2024-08-30 16:49:59: foehnix.foehnix: EM iteration 211/600, ll =   -9153.13\n",
      "2024-08-30 16:49:59: foehnix.foehnix: EM iteration 212/600, ll =   -9153.13\n",
      "2024-08-30 16:49:59: foehnix.foehnix: EM iteration 213/600, ll =   -9153.13\n",
      "2024-08-30 16:49:59: foehnix.foehnix: EM iteration 214/600, ll =   -9153.13\n",
      "2024-08-30 16:49:59: foehnix.foehnix: EM iteration 215/600, ll =   -9153.13\n",
      "2024-08-30 16:49:59: foehnix.foehnix: EM iteration 216/600, ll =   -9153.13\n",
      "2024-08-30 16:49:59: foehnix.foehnix: EM iteration 217/600, ll =   -9153.13\n",
      "2024-08-30 16:49:59: foehnix.foehnix: EM iteration 218/600, ll =   -9153.13\n",
      "2024-08-30 16:49:59: foehnix.foehnix: EM iteration 219/600, ll =   -9153.13\n",
      "2024-08-30 16:49:59: foehnix.foehnix: EM iteration 220/600, ll =   -9153.13\n",
      "2024-08-30 16:49:59: foehnix.foehnix: EM iteration 221/600, ll =   -9153.13\n",
      "2024-08-30 16:49:59: foehnix.foehnix: EM iteration 222/600, ll =   -9153.13\n",
      "2024-08-30 16:49:59: foehnix.foehnix: EM iteration 223/600, ll =   -9153.13\n",
      "2024-08-30 16:49:59: foehnix.foehnix: EM iteration 224/600, ll =   -9153.13\n",
      "2024-08-30 16:49:59: foehnix.foehnix: EM iteration 225/600, ll =   -9153.13\n",
      "2024-08-30 16:49:59: foehnix.foehnix: EM iteration 226/600, ll =   -9153.13\n",
      "2024-08-30 16:49:59: foehnix.foehnix: EM iteration 227/600, ll =   -9153.13\n",
      "2024-08-30 16:49:59: foehnix.foehnix: EM iteration 228/600, ll =   -9153.13\n",
      "2024-08-30 16:49:59: foehnix.foehnix: EM iteration 229/600, ll =   -9153.13\n",
      "2024-08-30 16:49:59: foehnix.foehnix: EM iteration 230/600, ll =   -9153.13\n",
      "2024-08-30 16:49:59: foehnix.foehnix: EM iteration 231/600, ll =   -9153.13\n",
      "2024-08-30 16:49:59: foehnix.foehnix: EM iteration 232/600, ll =   -9153.13\n",
      "2024-08-30 16:49:59: foehnix.foehnix: EM iteration 233/600, ll =   -9153.13\n",
      "2024-08-30 16:49:59: foehnix.foehnix: EM iteration 234/600, ll =   -9153.13\n",
      "2024-08-30 16:49:59: foehnix.foehnix: EM iteration 235/600, ll =   -9153.13\n",
      "2024-08-30 16:49:59: foehnix.foehnix: EM iteration 236/600, ll =   -9153.13\n",
      "2024-08-30 16:49:59: foehnix.foehnix: EM iteration 237/600, ll =   -9153.13\n",
      "2024-08-30 16:49:59: foehnix.foehnix: EM iteration 238/600, ll =   -9153.13\n",
      "2024-08-30 16:49:59: foehnix.foehnix: EM iteration 239/600, ll =   -9153.13\n",
      "2024-08-30 16:49:59: foehnix.foehnix: EM iteration 240/600, ll =   -9153.13\n",
      "2024-08-30 16:49:59: foehnix.foehnix: EM iteration 241/600, ll =   -9153.13\n",
      "2024-08-30 16:49:59: foehnix.foehnix: Estimation finished, create final object.\n",
      "2024-08-30 16:50:00: foehnix.foehnix_filter: Applied limit-filter [110.0 240.0] to key 3m_Winddir_jjmc\n",
      "2024-08-30 16:50:00: foehnix.foehnix_filter: Applied limit-filter [90.0 270.0] to key winddir_crest800\n",
      "2024-08-30 16:50:00: foehnix.foehnix_filter: Applied limit-filter [80.0 280.0] to key winddir_ahab\n",
      "2024-08-30 16:50:00: foehnix.foehnix_filter: Applied limit-filter [0.5 1.0] to key prob_ahab_filter2\n",
      "2024-08-30 16:50:00: foehnix.foehnix: Calling Foehnix.unreg_fit\n",
      "2024-08-30 16:50:00: foehnix.foehnix: EM iteration 1/600, ll =  -10255.93\n",
      "2024-08-30 16:50:00: foehnix.foehnix: EM iteration 2/600, ll =   -9986.56\n",
      "2024-08-30 16:50:00: foehnix.foehnix: EM iteration 3/600, ll =   -9828.50\n",
      "2024-08-30 16:50:00: foehnix.foehnix: EM iteration 4/600, ll =   -9731.73\n",
      "2024-08-30 16:50:00: foehnix.foehnix: EM iteration 5/600, ll =   -9667.30\n",
      "2024-08-30 16:50:00: foehnix.foehnix: EM iteration 6/600, ll =   -9620.58\n",
      "2024-08-30 16:50:00: foehnix.foehnix: EM iteration 7/600, ll =   -9584.68\n",
      "2024-08-30 16:50:00: foehnix.foehnix: EM iteration 8/600, ll =   -9556.15\n",
      "2024-08-30 16:50:00: foehnix.foehnix: EM iteration 9/600, ll =   -9533.07\n",
      "2024-08-30 16:50:00: foehnix.foehnix: EM iteration 10/600, ll =   -9514.20\n",
      "2024-08-30 16:50:00: foehnix.foehnix: EM iteration 11/600, ll =   -9498.66\n",
      "2024-08-30 16:50:00: foehnix.foehnix: EM iteration 12/600, ll =   -9485.80\n",
      "2024-08-30 16:50:00: foehnix.foehnix: EM iteration 13/600, ll =   -9475.13\n",
      "2024-08-30 16:50:00: foehnix.foehnix: EM iteration 14/600, ll =   -9466.22\n",
      "2024-08-30 16:50:00: foehnix.foehnix: EM iteration 15/600, ll =   -9458.78\n",
      "2024-08-30 16:50:00: foehnix.foehnix: EM iteration 16/600, ll =   -9452.53\n",
      "2024-08-30 16:50:00: foehnix.foehnix: EM iteration 17/600, ll =   -9447.28\n",
      "2024-08-30 16:50:00: foehnix.foehnix: EM iteration 18/600, ll =   -9442.85\n",
      "2024-08-30 16:50:00: foehnix.foehnix: EM iteration 19/600, ll =   -9439.11\n",
      "2024-08-30 16:50:00: foehnix.foehnix: EM iteration 20/600, ll =   -9435.94\n",
      "2024-08-30 16:50:00: foehnix.foehnix: EM iteration 21/600, ll =   -9433.25\n",
      "2024-08-30 16:50:00: foehnix.foehnix: EM iteration 22/600, ll =   -9430.95\n",
      "2024-08-30 16:50:00: foehnix.foehnix: EM iteration 23/600, ll =   -9429.00\n",
      "2024-08-30 16:50:00: foehnix.foehnix: EM iteration 24/600, ll =   -9427.33\n",
      "2024-08-30 16:50:00: foehnix.foehnix: EM iteration 25/600, ll =   -9425.89\n",
      "2024-08-30 16:50:00: foehnix.foehnix: EM iteration 26/600, ll =   -9424.66\n",
      "2024-08-30 16:50:01: foehnix.foehnix: EM iteration 27/600, ll =   -9423.61\n",
      "2024-08-30 16:50:01: foehnix.foehnix: EM iteration 28/600, ll =   -9422.69\n",
      "2024-08-30 16:50:01: foehnix.foehnix: EM iteration 29/600, ll =   -9421.90\n",
      "2024-08-30 16:50:01: foehnix.foehnix: EM iteration 30/600, ll =   -9421.22\n",
      "2024-08-30 16:50:01: foehnix.foehnix: EM iteration 31/600, ll =   -9420.62\n",
      "2024-08-30 16:50:01: foehnix.foehnix: EM iteration 32/600, ll =   -9420.10\n",
      "2024-08-30 16:50:01: foehnix.foehnix: EM iteration 33/600, ll =   -9419.65\n",
      "2024-08-30 16:50:01: foehnix.foehnix: EM iteration 34/600, ll =   -9419.25\n",
      "2024-08-30 16:50:01: foehnix.foehnix: EM iteration 35/600, ll =   -9418.90\n",
      "2024-08-30 16:50:01: foehnix.foehnix: EM iteration 36/600, ll =   -9418.59\n",
      "2024-08-30 16:50:01: foehnix.foehnix: EM iteration 37/600, ll =   -9418.32\n",
      "2024-08-30 16:50:01: foehnix.foehnix: EM iteration 38/600, ll =   -9418.08\n",
      "2024-08-30 16:50:01: foehnix.foehnix: EM iteration 39/600, ll =   -9417.87\n",
      "2024-08-30 16:50:01: foehnix.foehnix: EM iteration 40/600, ll =   -9417.68\n",
      "2024-08-30 16:50:01: foehnix.foehnix: EM iteration 41/600, ll =   -9417.51\n",
      "2024-08-30 16:50:01: foehnix.foehnix: EM iteration 42/600, ll =   -9417.36\n",
      "2024-08-30 16:50:01: foehnix.foehnix: EM iteration 43/600, ll =   -9417.22\n",
      "2024-08-30 16:50:01: foehnix.foehnix: EM iteration 44/600, ll =   -9417.10\n",
      "2024-08-30 16:50:01: foehnix.foehnix: EM iteration 45/600, ll =   -9416.99\n",
      "2024-08-30 16:50:01: foehnix.foehnix: EM iteration 46/600, ll =   -9416.90\n",
      "2024-08-30 16:50:01: foehnix.foehnix: EM iteration 47/600, ll =   -9416.81\n",
      "2024-08-30 16:50:01: foehnix.foehnix: EM iteration 48/600, ll =   -9416.73\n",
      "2024-08-30 16:50:01: foehnix.foehnix: EM iteration 49/600, ll =   -9416.66\n",
      "2024-08-30 16:50:02: foehnix.foehnix: EM iteration 50/600, ll =   -9416.59\n",
      "2024-08-30 16:50:02: foehnix.foehnix: EM iteration 51/600, ll =   -9416.53\n",
      "2024-08-30 16:50:02: foehnix.foehnix: EM iteration 52/600, ll =   -9416.48\n",
      "2024-08-30 16:50:02: foehnix.foehnix: EM iteration 53/600, ll =   -9416.43\n",
      "2024-08-30 16:50:02: foehnix.foehnix: EM iteration 54/600, ll =   -9416.39\n",
      "2024-08-30 16:50:02: foehnix.foehnix: EM iteration 55/600, ll =   -9416.34\n",
      "2024-08-30 16:50:02: foehnix.foehnix: EM iteration 56/600, ll =   -9416.31\n",
      "2024-08-30 16:50:02: foehnix.foehnix: EM iteration 57/600, ll =   -9416.27\n",
      "2024-08-30 16:50:02: foehnix.foehnix: EM iteration 58/600, ll =   -9416.24\n",
      "2024-08-30 16:50:02: foehnix.foehnix: EM iteration 59/600, ll =   -9416.21\n",
      "2024-08-30 16:50:02: foehnix.foehnix: EM iteration 60/600, ll =   -9416.19\n",
      "2024-08-30 16:50:02: foehnix.foehnix: EM iteration 61/600, ll =   -9416.17\n",
      "2024-08-30 16:50:02: foehnix.foehnix: EM iteration 62/600, ll =   -9416.14\n",
      "2024-08-30 16:50:02: foehnix.foehnix: EM iteration 63/600, ll =   -9416.12\n",
      "2024-08-30 16:50:02: foehnix.foehnix: EM iteration 64/600, ll =   -9416.11\n",
      "2024-08-30 16:50:02: foehnix.foehnix: EM iteration 65/600, ll =   -9416.09\n",
      "2024-08-30 16:50:02: foehnix.foehnix: EM iteration 66/600, ll =   -9416.07\n",
      "2024-08-30 16:50:02: foehnix.foehnix: EM iteration 67/600, ll =   -9416.06\n",
      "2024-08-30 16:50:02: foehnix.foehnix: EM iteration 68/600, ll =   -9416.05\n",
      "2024-08-30 16:50:02: foehnix.foehnix: EM iteration 69/600, ll =   -9416.03\n",
      "2024-08-30 16:50:03: foehnix.foehnix: EM iteration 70/600, ll =   -9416.02\n",
      "2024-08-30 16:50:03: foehnix.foehnix: EM iteration 71/600, ll =   -9416.01\n",
      "2024-08-30 16:50:03: foehnix.foehnix: EM iteration 72/600, ll =   -9416.00\n",
      "2024-08-30 16:50:03: foehnix.foehnix: EM iteration 73/600, ll =   -9415.99\n",
      "2024-08-30 16:50:03: foehnix.foehnix: EM iteration 74/600, ll =   -9415.99\n",
      "2024-08-30 16:50:03: foehnix.foehnix: EM iteration 75/600, ll =   -9415.98\n",
      "2024-08-30 16:50:03: foehnix.foehnix: EM iteration 76/600, ll =   -9415.97\n",
      "2024-08-30 16:50:03: foehnix.foehnix: EM iteration 77/600, ll =   -9415.97\n",
      "2024-08-30 16:50:03: foehnix.foehnix: EM iteration 78/600, ll =   -9415.96\n",
      "2024-08-30 16:50:03: foehnix.foehnix: EM iteration 79/600, ll =   -9415.95\n",
      "2024-08-30 16:50:03: foehnix.foehnix: EM iteration 80/600, ll =   -9415.95\n",
      "2024-08-30 16:50:03: foehnix.foehnix: EM iteration 81/600, ll =   -9415.95\n",
      "2024-08-30 16:50:03: foehnix.foehnix: EM iteration 82/600, ll =   -9415.94\n",
      "2024-08-30 16:50:03: foehnix.foehnix: EM iteration 83/600, ll =   -9415.94\n",
      "2024-08-30 16:50:03: foehnix.foehnix: EM iteration 84/600, ll =   -9415.93\n",
      "2024-08-30 16:50:04: foehnix.foehnix: EM iteration 85/600, ll =   -9415.93\n",
      "2024-08-30 16:50:04: foehnix.foehnix: EM iteration 86/600, ll =   -9415.93\n",
      "2024-08-30 16:50:04: foehnix.foehnix: EM iteration 87/600, ll =   -9415.92\n",
      "2024-08-30 16:50:04: foehnix.foehnix: EM iteration 88/600, ll =   -9415.92\n",
      "2024-08-30 16:50:04: foehnix.foehnix: EM iteration 89/600, ll =   -9415.92\n",
      "2024-08-30 16:50:04: foehnix.foehnix: EM iteration 90/600, ll =   -9415.92\n",
      "2024-08-30 16:50:04: foehnix.foehnix: EM iteration 91/600, ll =   -9415.92\n",
      "2024-08-30 16:50:04: foehnix.foehnix: EM iteration 92/600, ll =   -9415.91\n",
      "2024-08-30 16:50:04: foehnix.foehnix: EM iteration 93/600, ll =   -9415.91\n",
      "2024-08-30 16:50:04: foehnix.foehnix: EM iteration 94/600, ll =   -9415.91\n",
      "2024-08-30 16:50:04: foehnix.foehnix: EM iteration 95/600, ll =   -9415.91\n",
      "2024-08-30 16:50:04: foehnix.foehnix: EM iteration 96/600, ll =   -9415.91\n",
      "2024-08-30 16:50:04: foehnix.foehnix: EM iteration 97/600, ll =   -9415.91\n",
      "2024-08-30 16:50:04: foehnix.foehnix: EM iteration 98/600, ll =   -9415.91\n",
      "2024-08-30 16:50:04: foehnix.foehnix: EM iteration 99/600, ll =   -9415.90\n",
      "2024-08-30 16:50:04: foehnix.foehnix: EM iteration 100/600, ll =   -9415.90\n",
      "2024-08-30 16:50:04: foehnix.foehnix: EM iteration 101/600, ll =   -9415.90\n",
      "2024-08-30 16:50:04: foehnix.foehnix: EM iteration 102/600, ll =   -9415.90\n",
      "2024-08-30 16:50:04: foehnix.foehnix: EM iteration 103/600, ll =   -9415.90\n",
      "2024-08-30 16:50:04: foehnix.foehnix: EM iteration 104/600, ll =   -9415.90\n",
      "2024-08-30 16:50:05: foehnix.foehnix: EM iteration 105/600, ll =   -9415.90\n",
      "2024-08-30 16:50:05: foehnix.foehnix: EM iteration 106/600, ll =   -9415.90\n",
      "2024-08-30 16:50:05: foehnix.foehnix: EM iteration 107/600, ll =   -9415.90\n",
      "2024-08-30 16:50:05: foehnix.foehnix: EM iteration 108/600, ll =   -9415.90\n",
      "2024-08-30 16:50:05: foehnix.foehnix: EM iteration 109/600, ll =   -9415.90\n",
      "2024-08-30 16:50:05: foehnix.foehnix: EM iteration 110/600, ll =   -9415.90\n",
      "2024-08-30 16:50:05: foehnix.foehnix: EM iteration 111/600, ll =   -9415.90\n",
      "2024-08-30 16:50:05: foehnix.foehnix: EM iteration 112/600, ll =   -9415.90\n",
      "2024-08-30 16:50:05: foehnix.foehnix: EM iteration 113/600, ll =   -9415.90\n",
      "2024-08-30 16:50:05: foehnix.foehnix: EM iteration 114/600, ll =   -9415.90\n",
      "2024-08-30 16:50:05: foehnix.foehnix: EM iteration 115/600, ll =   -9415.89\n",
      "2024-08-30 16:50:05: foehnix.foehnix: EM iteration 116/600, ll =   -9415.89\n",
      "2024-08-30 16:50:05: foehnix.foehnix: EM iteration 117/600, ll =   -9415.89\n",
      "2024-08-30 16:50:05: foehnix.foehnix: EM iteration 118/600, ll =   -9415.89\n",
      "2024-08-30 16:50:05: foehnix.foehnix: EM iteration 119/600, ll =   -9415.89\n",
      "2024-08-30 16:50:05: foehnix.foehnix: EM iteration 120/600, ll =   -9415.89\n",
      "2024-08-30 16:50:05: foehnix.foehnix: EM iteration 121/600, ll =   -9415.89\n",
      "2024-08-30 16:50:05: foehnix.foehnix: EM iteration 122/600, ll =   -9415.89\n",
      "2024-08-30 16:50:05: foehnix.foehnix: EM iteration 123/600, ll =   -9415.89\n",
      "2024-08-30 16:50:06: foehnix.foehnix: EM iteration 124/600, ll =   -9415.89\n",
      "2024-08-30 16:50:06: foehnix.foehnix: EM iteration 125/600, ll =   -9415.89\n",
      "2024-08-30 16:50:06: foehnix.foehnix: EM iteration 126/600, ll =   -9415.89\n",
      "2024-08-30 16:50:06: foehnix.foehnix: EM iteration 127/600, ll =   -9415.89\n",
      "2024-08-30 16:50:06: foehnix.foehnix: EM iteration 128/600, ll =   -9415.89\n",
      "2024-08-30 16:50:06: foehnix.foehnix: EM iteration 129/600, ll =   -9415.89\n",
      "2024-08-30 16:50:06: foehnix.foehnix: EM iteration 130/600, ll =   -9415.89\n",
      "2024-08-30 16:50:06: foehnix.foehnix: EM iteration 131/600, ll =   -9415.89\n",
      "2024-08-30 16:50:06: foehnix.foehnix: EM iteration 132/600, ll =   -9415.89\n",
      "2024-08-30 16:50:06: foehnix.foehnix: EM iteration 133/600, ll =   -9415.89\n",
      "2024-08-30 16:50:06: foehnix.foehnix: EM iteration 134/600, ll =   -9415.89\n",
      "2024-08-30 16:50:06: foehnix.foehnix: EM iteration 135/600, ll =   -9415.89\n",
      "2024-08-30 16:50:06: foehnix.foehnix: EM iteration 136/600, ll =   -9415.89\n",
      "2024-08-30 16:50:06: foehnix.foehnix: EM iteration 137/600, ll =   -9415.89\n",
      "2024-08-30 16:50:06: foehnix.foehnix: EM iteration 138/600, ll =   -9415.89\n",
      "2024-08-30 16:50:06: foehnix.foehnix: EM iteration 139/600, ll =   -9415.89\n",
      "2024-08-30 16:50:06: foehnix.foehnix: EM iteration 140/600, ll =   -9415.89\n",
      "2024-08-30 16:50:06: foehnix.foehnix: EM iteration 141/600, ll =   -9415.89\n",
      "2024-08-30 16:50:06: foehnix.foehnix: EM iteration 142/600, ll =   -9415.89\n",
      "2024-08-30 16:50:06: foehnix.foehnix: EM iteration 143/600, ll =   -9415.89\n",
      "2024-08-30 16:50:07: foehnix.foehnix: EM iteration 144/600, ll =   -9415.89\n",
      "2024-08-30 16:50:07: foehnix.foehnix: EM iteration 145/600, ll =   -9415.89\n",
      "2024-08-30 16:50:07: foehnix.foehnix: EM iteration 146/600, ll =   -9415.89\n",
      "2024-08-30 16:50:07: foehnix.foehnix: EM iteration 147/600, ll =   -9415.89\n",
      "2024-08-30 16:50:07: foehnix.foehnix: EM iteration 148/600, ll =   -9415.89\n",
      "2024-08-30 16:50:07: foehnix.foehnix: EM iteration 149/600, ll =   -9415.89\n",
      "2024-08-30 16:50:07: foehnix.foehnix: EM iteration 150/600, ll =   -9415.89\n",
      "2024-08-30 16:50:07: foehnix.foehnix: EM iteration 151/600, ll =   -9415.89\n",
      "2024-08-30 16:50:07: foehnix.foehnix: EM iteration 152/600, ll =   -9415.89\n",
      "2024-08-30 16:50:07: foehnix.foehnix: EM iteration 153/600, ll =   -9415.89\n",
      "2024-08-30 16:50:07: foehnix.foehnix: EM iteration 154/600, ll =   -9415.89\n",
      "2024-08-30 16:50:07: foehnix.foehnix: EM iteration 155/600, ll =   -9415.89\n",
      "2024-08-30 16:50:07: foehnix.foehnix: EM iteration 156/600, ll =   -9415.89\n",
      "2024-08-30 16:50:07: foehnix.foehnix: EM iteration 157/600, ll =   -9415.89\n",
      "2024-08-30 16:50:07: foehnix.foehnix: EM iteration 158/600, ll =   -9415.89\n",
      "2024-08-30 16:50:07: foehnix.foehnix: EM iteration 159/600, ll =   -9415.89\n",
      "2024-08-30 16:50:07: foehnix.foehnix: EM iteration 160/600, ll =   -9415.89\n",
      "2024-08-30 16:50:07: foehnix.foehnix: EM iteration 161/600, ll =   -9415.89\n",
      "2024-08-30 16:50:07: foehnix.foehnix: EM iteration 162/600, ll =   -9415.89\n",
      "2024-08-30 16:50:07: foehnix.foehnix: EM iteration 163/600, ll =   -9415.89\n",
      "2024-08-30 16:50:08: foehnix.foehnix: EM iteration 164/600, ll =   -9415.89\n",
      "2024-08-30 16:50:08: foehnix.foehnix: EM iteration 165/600, ll =   -9415.89\n",
      "2024-08-30 16:50:08: foehnix.foehnix: EM iteration 166/600, ll =   -9415.89\n",
      "2024-08-30 16:50:08: foehnix.foehnix: EM iteration 167/600, ll =   -9415.89\n",
      "2024-08-30 16:50:08: foehnix.foehnix: EM iteration 168/600, ll =   -9415.89\n",
      "2024-08-30 16:50:08: foehnix.foehnix: EM iteration 169/600, ll =   -9415.89\n",
      "2024-08-30 16:50:08: foehnix.foehnix: EM iteration 170/600, ll =   -9415.89\n",
      "2024-08-30 16:50:08: foehnix.foehnix: EM iteration 171/600, ll =   -9415.89\n",
      "2024-08-30 16:50:08: foehnix.foehnix: EM iteration 172/600, ll =   -9415.89\n",
      "2024-08-30 16:50:08: foehnix.foehnix: EM iteration 173/600, ll =   -9415.89\n",
      "2024-08-30 16:50:08: foehnix.foehnix: EM iteration 174/600, ll =   -9415.89\n",
      "2024-08-30 16:50:08: foehnix.foehnix: EM iteration 175/600, ll =   -9415.89\n",
      "2024-08-30 16:50:08: foehnix.foehnix: EM iteration 176/600, ll =   -9415.89\n",
      "2024-08-30 16:50:08: foehnix.foehnix: EM iteration 177/600, ll =   -9415.89\n",
      "2024-08-30 16:50:08: foehnix.foehnix: EM iteration 178/600, ll =   -9415.89\n",
      "2024-08-30 16:50:08: foehnix.foehnix: EM iteration 179/600, ll =   -9415.89\n",
      "2024-08-30 16:50:08: foehnix.foehnix: EM iteration 180/600, ll =   -9415.89\n",
      "2024-08-30 16:50:08: foehnix.foehnix: EM iteration 181/600, ll =   -9415.89\n",
      "2024-08-30 16:50:08: foehnix.foehnix: EM iteration 182/600, ll =   -9415.89\n",
      "2024-08-30 16:50:09: foehnix.foehnix: EM iteration 183/600, ll =   -9415.89\n",
      "2024-08-30 16:50:09: foehnix.foehnix: EM iteration 184/600, ll =   -9415.89\n",
      "2024-08-30 16:50:09: foehnix.foehnix: EM iteration 185/600, ll =   -9415.89\n",
      "2024-08-30 16:50:09: foehnix.foehnix: EM iteration 186/600, ll =   -9415.89\n",
      "2024-08-30 16:50:09: foehnix.foehnix: EM iteration 187/600, ll =   -9415.89\n",
      "2024-08-30 16:50:09: foehnix.foehnix: EM iteration 188/600, ll =   -9415.89\n",
      "2024-08-30 16:50:09: foehnix.foehnix: EM iteration 189/600, ll =   -9415.89\n",
      "2024-08-30 16:50:09: foehnix.foehnix: EM iteration 190/600, ll =   -9415.89\n",
      "2024-08-30 16:50:09: foehnix.foehnix: EM iteration 191/600, ll =   -9415.89\n",
      "2024-08-30 16:50:09: foehnix.foehnix: EM iteration 192/600, ll =   -9415.89\n",
      "2024-08-30 16:50:09: foehnix.foehnix: EM iteration 193/600, ll =   -9415.89\n",
      "2024-08-30 16:50:09: foehnix.foehnix: EM iteration 194/600, ll =   -9415.89\n",
      "2024-08-30 16:50:09: foehnix.foehnix: EM iteration 195/600, ll =   -9415.89\n",
      "2024-08-30 16:50:09: foehnix.foehnix: EM iteration 196/600, ll =   -9415.89\n",
      "2024-08-30 16:50:09: foehnix.foehnix: EM iteration 197/600, ll =   -9415.89\n",
      "2024-08-30 16:50:09: foehnix.foehnix: EM iteration 198/600, ll =   -9415.89\n",
      "2024-08-30 16:50:09: foehnix.foehnix: EM iteration 199/600, ll =   -9415.89\n",
      "2024-08-30 16:50:10: foehnix.foehnix: EM iteration 200/600, ll =   -9415.89\n",
      "2024-08-30 16:50:10: foehnix.foehnix: EM iteration 201/600, ll =   -9415.89\n",
      "2024-08-30 16:50:10: foehnix.foehnix: EM iteration 202/600, ll =   -9415.89\n",
      "2024-08-30 16:50:10: foehnix.foehnix: EM iteration 203/600, ll =   -9415.89\n",
      "2024-08-30 16:50:10: foehnix.foehnix: EM iteration 204/600, ll =   -9415.89\n",
      "2024-08-30 16:50:10: foehnix.foehnix: EM iteration 205/600, ll =   -9415.89\n",
      "2024-08-30 16:50:10: foehnix.foehnix: EM iteration 206/600, ll =   -9415.89\n",
      "2024-08-30 16:50:10: foehnix.foehnix: EM iteration 207/600, ll =   -9415.89\n",
      "2024-08-30 16:50:10: foehnix.foehnix: EM iteration 208/600, ll =   -9415.89\n",
      "2024-08-30 16:50:10: foehnix.foehnix: EM iteration 209/600, ll =   -9415.89\n",
      "2024-08-30 16:50:10: foehnix.foehnix: EM iteration 210/600, ll =   -9415.89\n",
      "2024-08-30 16:50:10: foehnix.foehnix: EM iteration 211/600, ll =   -9415.89\n",
      "2024-08-30 16:50:10: foehnix.foehnix: EM iteration 212/600, ll =   -9415.89\n",
      "2024-08-30 16:50:10: foehnix.foehnix: EM iteration 213/600, ll =   -9415.89\n",
      "2024-08-30 16:50:10: foehnix.foehnix: EM iteration 214/600, ll =   -9415.89\n",
      "2024-08-30 16:50:10: foehnix.foehnix: EM iteration 215/600, ll =   -9415.89\n",
      "2024-08-30 16:50:10: foehnix.foehnix: EM iteration 216/600, ll =   -9415.89\n",
      "2024-08-30 16:50:10: foehnix.foehnix: EM iteration 217/600, ll =   -9415.89\n",
      "2024-08-30 16:50:10: foehnix.foehnix: EM iteration 218/600, ll =   -9415.89\n",
      "2024-08-30 16:50:10: foehnix.foehnix: EM iteration 219/600, ll =   -9415.89\n",
      "2024-08-30 16:50:11: foehnix.foehnix: EM iteration 220/600, ll =   -9415.89\n",
      "2024-08-30 16:50:11: foehnix.foehnix: EM iteration 221/600, ll =   -9415.89\n",
      "2024-08-30 16:50:11: foehnix.foehnix: EM iteration 222/600, ll =   -9415.89\n",
      "2024-08-30 16:50:11: foehnix.foehnix: EM iteration 223/600, ll =   -9415.89\n",
      "2024-08-30 16:50:11: foehnix.foehnix: EM iteration 224/600, ll =   -9415.89\n",
      "2024-08-30 16:50:11: foehnix.foehnix: EM iteration 225/600, ll =   -9415.89\n",
      "2024-08-30 16:50:11: foehnix.foehnix: EM iteration 226/600, ll =   -9415.89\n",
      "2024-08-30 16:50:11: foehnix.foehnix: EM iteration 227/600, ll =   -9415.89\n",
      "2024-08-30 16:50:11: foehnix.foehnix: EM iteration 228/600, ll =   -9415.89\n",
      "2024-08-30 16:50:11: foehnix.foehnix: EM iteration 229/600, ll =   -9415.89\n",
      "2024-08-30 16:50:11: foehnix.foehnix: EM iteration 230/600, ll =   -9415.89\n",
      "2024-08-30 16:50:11: foehnix.foehnix: EM iteration 231/600, ll =   -9415.89\n",
      "2024-08-30 16:50:11: foehnix.foehnix: EM iteration 232/600, ll =   -9415.89\n",
      "2024-08-30 16:50:11: foehnix.foehnix: EM iteration 233/600, ll =   -9415.89\n",
      "2024-08-30 16:50:11: foehnix.foehnix: EM iteration 234/600, ll =   -9415.89\n",
      "2024-08-30 16:50:11: foehnix.foehnix: EM iteration 235/600, ll =   -9415.89\n",
      "2024-08-30 16:50:11: foehnix.foehnix: EM iteration 236/600, ll =   -9415.89\n",
      "2024-08-30 16:50:11: foehnix.foehnix: EM iteration 237/600, ll =   -9415.89\n",
      "2024-08-30 16:50:11: foehnix.foehnix: EM iteration 238/600, ll =   -9415.89\n",
      "2024-08-30 16:50:11: foehnix.foehnix: EM iteration 239/600, ll =   -9415.89\n",
      "2024-08-30 16:50:12: foehnix.foehnix: EM iteration 240/600, ll =   -9415.89\n",
      "2024-08-30 16:50:12: foehnix.foehnix: EM iteration 241/600, ll =   -9415.89\n",
      "2024-08-30 16:50:12: foehnix.foehnix: EM iteration 242/600, ll =   -9415.89\n",
      "2024-08-30 16:50:12: foehnix.foehnix: EM iteration 243/600, ll =   -9415.89\n",
      "2024-08-30 16:50:12: foehnix.foehnix: EM iteration 244/600, ll =   -9415.89\n",
      "2024-08-30 16:50:12: foehnix.foehnix: EM iteration 245/600, ll =   -9415.89\n",
      "2024-08-30 16:50:12: foehnix.foehnix: Estimation finished, create final object.\n"
     ]
    }
   ],
   "source": [
    "#model setup 2\n",
    "#model 2 wind speed principal, Tdiff jjmc - 800hPa and RH JJMC concomitant\n",
    "mod_jjmc_1 = foehnix.Foehnix(\"3m_Windspeed_jjmc\", foehn_dataset,  \n",
    "                         concomitant = [\"Tdiff_jjmc_ahab\", \"2m_RH_jjmc\"], filter_method = filterjjmc1, \n",
    "                                        switch = False, maxit = 700)\n",
    "mod_jjmc_2 = foehnix.Foehnix(\"3m_Windspeed_jjmc\", foehn_dataset,   \n",
    "                         concomitant = [\"Tdiff_jjmc_ahab\", \"2m_RH_jjmc\"], filter_method = filterjjmc2, \n",
    "                                        switch = False, maxit = 600)\n",
    "mod_jjmc_3 = foehnix.Foehnix(\"3m_Windspeed_jjmc\", foehn_dataset,   \n",
    "                         concomitant = [\"Tdiff_jjmc_ahab\", \"2m_RH_jjmc\"], filter_method = filterjjmc3, \n",
    "                                        switch = False, maxit = 600)"
   ]
  },
  {
   "cell_type": "code",
   "execution_count": null,
   "id": "5fad0317-1193-4241-8b09-241cf034bddf",
   "metadata": {},
   "outputs": [],
   "source": []
  },
  {
   "cell_type": "code",
   "execution_count": 42,
   "id": "70ff877c-9ea8-4985-a22a-9757fc412151",
   "metadata": {},
   "outputs": [],
   "source": [
    "#add probability of ahab foehnix model to dataframe\n",
    "foehn_dataset[\"prob_jjmc_filter1\"] = mod_jjmc_1.prob[\"prob\"].copy().values\n",
    "foehn_dataset[\"prob_jjmc_filter2\"] = mod_jjmc_2.prob[\"prob\"].copy().values\n",
    "foehn_dataset[\"prob_jjmc_filter3\"] = mod_jjmc_3.prob[\"prob\"].copy().values"
   ]
  },
  {
   "cell_type": "code",
   "execution_count": 43,
   "id": "a42a07cf-eb21-4f67-a7dc-7a7782562ef3",
   "metadata": {
    "tags": []
   },
   "outputs": [
    {
     "data": {
      "text/plain": [
       "mu1                                                      3.072212\n",
       "logsd1                                                   0.438755\n",
       "mu2                                                      5.809648\n",
       "logsd2                                                   0.843514\n",
       "concomitants    Intercept         -8.984863\n",
       "Tdiff_jjmc_ahab   ...\n",
       "dtype: object"
      ]
     },
     "execution_count": 43,
     "metadata": {},
     "output_type": "execute_result"
    }
   ],
   "source": [
    "mod_jjmc_1.coef"
   ]
  },
  {
   "cell_type": "code",
   "execution_count": 44,
   "id": "7fe4bdf5-474c-4cfc-99b5-b8d289b3c485",
   "metadata": {},
   "outputs": [
    {
     "data": {
      "text/plain": [
       "Intercept         -8.984863\n",
       "Tdiff_jjmc_ahab    2.138059\n",
       "2m_RH_jjmc        -0.020539\n",
       "dtype: float64"
      ]
     },
     "execution_count": 44,
     "metadata": {},
     "output_type": "execute_result"
    }
   ],
   "source": [
    "mod_jjmc_1.coef.concomitants"
   ]
  },
  {
   "cell_type": "code",
   "execution_count": 46,
   "id": "badebb13-a02f-4f85-8095-8fdfc35784a9",
   "metadata": {},
   "outputs": [
    {
     "data": {
      "image/png": "[encoded data removed]",
      "text/plain": [
       "<Figure size 1000x500 with 2 Axes>"
      ]
     },
     "metadata": {},
     "output_type": "display_data"
    }
   ],
   "source": [
    "mod_jjmc_1.plot(which = \"hist\")"
   ]
  },
  {
   "cell_type": "code",
   "execution_count": 49,
   "id": "02ea8bf6-c905-47ef-b6b3-f15a1536f983",
   "metadata": {},
   "outputs": [
    {
     "name": "stdout",
     "output_type": "stream",
     "text": [
      "\n",
      "Number of observations (total)    55871 (0 due to inflation)\n",
      "Removed due to missing values     12352 (22.1 percent)\n",
      "Outside defined wind sector       38482 (68.9 percent)\n",
      "Used for classification            5037 (9.0 percent)\n",
      "\n",
      "Climatological foehn occurance 5.17 percent (on n = 43519)\n",
      "Mean foehn probability 5.04 percent (on n = 43519)\n",
      "\n",
      "Log-likelihood: -11568.9, 7 effective degrees of freedom\n",
      "Corresponding AIC = 23151.8, BIC = 23197.4\n",
      "\n",
      "Number of EM iterations 40/700 (converged)\n",
      "Time required for model estimation: 1.2 seconds\n"
     ]
    }
   ],
   "source": [
    "mod_jjmc_1.summary()"
   ]
  },
  {
   "cell_type": "markdown",
   "id": "2f26c643-b692-45c0-82c4-5b4edea34808",
   "metadata": {},
   "source": [
    "### save dataset with foehn probabilities"
   ]
  },
  {
   "cell_type": "code",
   "execution_count": 50,
   "id": "8df4cd3d-8013-4ec6-af1d-30fcd6b6da9d",
   "metadata": {},
   "outputs": [
    {
     "data": {
      "text/plain": [
       "utc_time\n",
       "2008-08-17 01:00:00    0.0\n",
       "2008-08-17 02:00:00    0.0\n",
       "2008-08-17 03:00:00    0.0\n",
       "2008-08-17 04:00:00    0.0\n",
       "2008-08-17 05:00:00    0.0\n",
       "                      ... \n",
       "2014-12-31 19:00:00    NaN\n",
       "2014-12-31 20:00:00    NaN\n",
       "2014-12-31 21:00:00    NaN\n",
       "2014-12-31 22:00:00    NaN\n",
       "2014-12-31 23:00:00    NaN\n",
       "Name: prob_jjmc_filter1, Length: 55871, dtype: float64"
      ]
     },
     "execution_count": 50,
     "metadata": {},
     "output_type": "execute_result"
    }
   ],
   "source": []
  },
  {
   "cell_type": "code",
   "execution_count": 51,
   "id": "a3a97f97-bc07-4b03-84da-bc65dfb0620e",
   "metadata": {},
   "outputs": [],
   "source": [
    "foehn_dataset.to_excel(r\"C:\\Users\\leopo\\Master\\Thesis\\Code\\Rfoehnix\\final_version\\foehn_probability_era5_era5.xlsx\")"
   ]
  },
  {
   "cell_type": "code",
   "execution_count": 63,
   "id": "8b229ef9-f1b1-43a2-8281-533f3a0d6b68",
   "metadata": {
    "collapsed": true,
    "jupyter": {
     "outputs_hidden": true
    },
    "tags": []
   },
   "outputs": [
    {
     "data": {
      "text/plain": [
       "Index(['Year', 'Day', 'Time', '3m_T_ahab', '1m_T_ahab', 'pressure_ahab',\n",
       "       'theta_ahab_jjmc', 'T_firn', 'pressure_firn', 'theta_firn_jjmc',\n",
       "       '2m_T_jjmc', '2m_RH_jjmc', '3m_Windspeed_jjmc', '3m_Winddir_jjmc',\n",
       "       '1m_Windspeed_jjmc', '1m_Winddir_jjmc', 'pressure_jjmc', 'Tdiff_ahab',\n",
       "       'Tdiff_firn', 'theta_diff_ahab', 'theta_diff_firn', 'foehn_ahab',\n",
       "       'foehn_firn', 'foehn_ahab_flag', 'foehn_firn_flag', '1m_T_jjmc',\n",
       "       '1m_RH_jjmc', '3m_T_jjmc', '3m_RH_jjmc', '3m_gust_jjmc', '1m_gust_jjmc',\n",
       "       'q_s_jjmc', 'windspeed_ahab', 'winddir_ahab', 'RH_ahab', 'Datetime',\n",
       "       't_upstream800', 'windspeed_upstream800', 'winddir_upstream800',\n",
       "       't_crest800', 'windspeed_crest800', 'winddir_crest800', 't_upstream775',\n",
       "       'windspeed_upstream775', 'winddir_upstream775', 't_crest775',\n",
       "       'windspeed_crest775', 'winddir_crest775', 't_upstream750',\n",
       "       'windspeed_upstream750', 'winddir_upstream750', 't_crest750',\n",
       "       'windspeed_crest750', 'winddir_crest750', 't_upstream700',\n",
       "       'windspeed_upstream700', 'winddir_upstream700', 't_crest700',\n",
       "       'windspeed_crest700', 'winddir_crest700', 't_mccall800',\n",
       "       'windspeed_mccall800', 'winddir_mccall800', 't_mccall750',\n",
       "       'windspeed_mccall750', 'winddir_mccall750', 't_mccall700',\n",
       "       'windspeed_mccall700', 'winddir_mccall700', 'tdiff_ahab_upstream800',\n",
       "       'tdiff_jjmc_upstream800', 'tdiff_ahab_crest800', 'tdiff_jjmc_crest800',\n",
       "       'tdiff_ahab_mccall800', 'tdiff_jjmc_mccall800', 'prob_ahab_filter1',\n",
       "       'prob_ahab_filter2', 'prob_jjmc_filter1', 'prob_jjmc_filter2'],\n",
       "      dtype='object')"
      ]
     },
     "execution_count": 63,
     "metadata": {},
     "output_type": "execute_result"
    }
   ],
   "source": [
    "foehn_dataset.columns"
   ]
  },
  {
   "cell_type": "markdown",
   "id": "3917766a-474b-4dbd-9cc2-4a223015b330",
   "metadata": {},
   "source": [
    "### Plot timeseries"
   ]
  },
  {
   "cell_type": "code",
   "execution_count": 95,
   "id": "906b55df-34f8-41cd-8f09-f9b5b22a31df",
   "metadata": {},
   "outputs": [],
   "source": [
    "def plot_function(start, end, year = None):\n",
    "    #make sure, the time is a pandas datetime\n",
    "    start = pd.to_datetime(start)\n",
    "    end = pd.to_datetime(end)\n",
    "    \n",
    "    #reduce dataset\n",
    "    foehn_jjmc_plot = foehn_dataset[start:end].copy()\n",
    "    \n",
    "    #plot    \n",
    "    fig = plt.figure(figsize=(25,15))\n",
    "    fig.tight_layout(pad=2.0)\n",
    "\n",
    "    #plot temperatures and potential temperatures of AHAB and era5 levels\n",
    "    ax1 = fig.add_subplot(5,1,1)\n",
    "    #ax2 = ax1.twinx()\n",
    "    fig.tight_layout(pad=2.0)\n",
    "    #plot with anomaly\n",
    "    ax1.plot(foehn_jjmc_plot.index, foehn_jjmc_plot[\"2m_T_jjmc\"] - foehn_jjmc_plot[\"2m_T_jjmc\"].mean() , color = \"red\", linewidth = 3, label = \"JJMC\")\n",
    "    ax1.plot(foehn_jjmc_plot.index, foehn_jjmc_plot[\"3m_T_ahab\"] - foehn_jjmc_plot[\"3m_T_ahab\"].mean(), color = \"blue\", linewidth = 3, label = \"AHAB\")\n",
    "    ax1.plot(foehn_jjmc_plot.index, foehn_jjmc_plot[\"t_crest800\"] - foehn_jjmc_plot[\"t_crest800\"].mean(), color = \"black\", linewidth = 3, label = \"ERA5 crest, 800 hPa\")\n",
    "    ax1.axhline(0, linestyle = \"dashed\")\n",
    "    #plot with observed values\n",
    "    #ax1.plot(foehn_jjmc_plot.index, foehn_jjmc_plot[\"2m_T_jjmc\"], color = \"red\", linewidth = 3, label = \"JJMC\")\n",
    "    #ax1.plot(foehn_jjmc_plot.index, foehn_jjmc_plot[\"3m_T_ahab\"], color = \"blue\", linewidth = 3, label = \"AHAB\")\n",
    "    #ax1.plot(foehn_jjmc_plot.index, foehn_jjmc_plot[\"t_crest800\"], color = \"black\", linewidth = 3, label = \"ERA5 crest, 800 hPa\")\n",
    "\n",
    "    #make plot look good\n",
    "    #ax1_upperlimit = 5*np.ceil(np.nanmax([foehn_jjmc_plot[\"2m_T_jjmc\"], \n",
    "    #                                      foehn_jjmc_plot[\"3m_T_ahab\"], foehn_jjmc_plot[\"t_crest800\"]])/5)\n",
    "    #ax1_lowerlimit = 5*np.floor(np.nanmin([foehn_jjmc_plot[\"2m_T_jjmc\"], \n",
    "    #                                       foehn_jjmc_plot[\"3m_T_ahab\"], foehn_jjmc_plot[\"t_crest800\"]])/5)\n",
    "    #y limits\n",
    "    #ax1.set_ylim(ax1_lowerlimit, ax1_upperlimit), \n",
    "    #ax1.set_yticks(np.arange(ax1_lowerlimit, ax1_upperlimit, 5));\n",
    "    ax1.set_ylabel(\"T anomaly [°C]\", fontsize = 20); ax1.tick_params(axis='both', which='major', labelsize=20);\n",
    "    ax1.set_xticklabels([])\n",
    "    ax1.legend(bbox_to_anchor =(0.5,-0.3), loc='lower center', fontsize = 18, ncol = 5);\n",
    "    #ax1.set_title(\"Temperature\", fontsize = 20)\n",
    "\n",
    "    ax2 = fig.add_subplot(5,1,2)\n",
    "    #plot relative humidity\n",
    "    #ax2.plot(foehn_jjmc_plot.index, foehn_jjmc_plot[\"q_s_jjmc\"], color = \"green\", label = \"specific humidity JJMC\")\n",
    "    #ax2.set_ylim(0, 30); \n",
    "    #ax2_5 = ax2.twinx()\n",
    "    ax2.plot(foehn_jjmc_plot.index, foehn_jjmc_plot[\"2m_RH_jjmc\"], color = \"green\", \n",
    "             label = \"relative humidity JJMC\")\n",
    "    ax2.plot(foehn_jjmc_plot.index, foehn_jjmc_plot[\"RH_ahab\"], color = \"green\", \n",
    "             linestyle = \"dashed\", label = \"relative humidity AHAB\")\n",
    "    ax2.set_ylim(0, 100.1); ax2.set_yticks([0, 20, 40, 60, 80, 100])\n",
    "    ax2.tick_params(axis='both', which='major', labelsize=20); #ax2.set_title(\"rel. humidity\");\n",
    "    ax2.set_xticklabels([])\n",
    "    ax2.set_ylabel(\"relative humidity [%]\", fontsize = 20, color = \"black\")\n",
    "    ax2.legend(bbox_to_anchor =(0.5,-0.26), loc='lower center', fontsize = 18, ncol = 2); \n",
    "    #ax2_5.legend(bbox_to_anchor =(0.65,-1.1), loc='lower center', fontsize = 20)\n",
    "\n",
    "    \n",
    "    #plot wind speed and direction\n",
    "    #colors = [\"red\" if ((value >= 110) & (value <= 235)) else \"black\" for value in foehn_jjmc_plot[\"3m_Winddir_jjmc\"]]\n",
    "    ax4 = fig.add_subplot(5,1,3)\n",
    "    #JJMC\n",
    "    ax4.plot(foehn_jjmc_plot.index, foehn_jjmc_plot[\"3m_Windspeed_jjmc\"], color = \"red\", label = \"ff JJMC\")\n",
    "    ax5 = ax4.twinx()\n",
    "    ax5.scatter(foehn_jjmc_plot.index, foehn_jjmc_plot[\"3m_Winddir_jjmc\"], color = 'red', s = 10, label = \"dd JJMC\")\n",
    "    #ERA5\n",
    "    ax4.plot(foehn_jjmc_plot.index, foehn_jjmc_plot[\"windspeed_crest800\"], color = \"black\", label = \"ff ERA5 crest - 800 hPa\")\n",
    "    ax5.scatter(foehn_jjmc_plot.index, foehn_jjmc_plot[\"winddir_crest800\"], color = 'black', s = 10, label = \"dd ERA5 crest - 800 hPa\")\n",
    "    #AHAB\n",
    "    ax4.plot(foehn_jjmc_plot.index, foehn_jjmc_plot[\"windspeed_ahab\"], color = \"blue\", label = \"wind speed AHAB\")\n",
    "    ax5.scatter(foehn_jjmc_plot.index, foehn_jjmc_plot[\"winddir_mccall800\"], color = 'blue', s = 10, label = \"dd ERA5 McCall - 800 hPa\")\n",
    "    #ax5.scatter(foehn_jjmc_plot.index, foehn_jjmc_plot[\"winddir_mccall800\"], color = 'cyan', s = 10, label = \"dd ERA5 - 800 hPa\")\n",
    "    #ax5.axhline(110, linestyle = \"dashed\", color = \"red\", label = \"foehn sector JJMC\"); ax5.axhline(225, linestyle = \"dashed\", color = \"red\")\n",
    "\n",
    "    # Set the transformation for the right y-axis (map 0-360 to 10-20)\n",
    "    #ax4.set_ylim(0, 20); \n",
    "    right_y_limit = 360\n",
    "    left_y_limit = 20\n",
    "    trans = lambda x: ((x+10) * (left_y_limit / right_y_limit))\n",
    "    ax4.set_ylim(0, 20); ax4.set_yticks([0, 5, 10, 15, 20]);\n",
    "    ax5.set_ylim(trans(0), trans(right_y_limit))\n",
    "\n",
    "    ax4.grid(color = \"black\", linewidth = 1, axis = \"y\")\n",
    "    ax4.legend(bbox_to_anchor =(0.3,-0.36), loc='lower center', fontsize = 18, ncol = 3); \n",
    "    #ax4.set_title(\"wind speed and direction at JJMC, AHAB, ERA5 crest 800hPa\", fontsize = 20)\n",
    "    ax4.set_ylabel(\"wind speed [m/s]\", fontsize = 20); ax5.set_ylabel(\"wind direction [°]\", fontsize = 20)\n",
    "    ax5.set_yticks([0, 90, 180, 270, 360]); ax5.grid(False)\n",
    "    ax5.legend(bbox_to_anchor =(0.7,-0.36), loc='lower center', fontsize = 18, ncol = 3)\n",
    "    ax4.tick_params(axis='both', which='major', labelsize=20)\n",
    "    ax5.tick_params(axis='both', which='major', labelsize=20)\n",
    "    ax4.set_xticklabels([]); ax5.set_xticklabels([])\n",
    "    \n",
    "        \n",
    "    #foehnix models only with AWS data filter 90-270\n",
    "    ax6 = fig.add_subplot(5,1,4)\n",
    "    #theta-diff as principal\n",
    "    ax6.plot(foehn_jjmc_plot.index, foehn_jjmc_plot[\"prob_jjmc_filter1\"], color = \"black\", \n",
    "             linewidth = 2, label = \"JJMC\")\n",
    "    ax6.plot(foehn_jjmc_plot.index, foehn_jjmc_plot[\"prob_ahab_filter1\"], color = \"black\", \n",
    "             linestyle = \"dashed\", linewidth = 2, label = \"AHAB\")\n",
    "\n",
    "\n",
    "    ax6.set_ylim(0,1.05); ax6.legend(bbox_to_anchor =(0.5,-0.4), loc='lower center', fontsize = 20, ncol = 2)\n",
    "    ax6.set_title(\"Foehn probability, Wind speed, Tdiff, RH, [90°, 270°]\", fontsize = 20); ax6.tick_params(axis='both', which='major', labelsize=20)\n",
    "    ax6.tick_params(axis='x', labelsize=25)#, ax6.set_ylabel(\"Wind speed, Tdiff, RH [90°, 270°]\", fontsize = 20)\n",
    "    ax6.set_xticklabels([])\n",
    "    \n",
    "    \n",
    "    #foehnix models only with AWS data, filter 110 - 250\n",
    "    ax7 = fig.add_subplot(5,1,5)\n",
    "    #theta-diff as principal\n",
    "    ax7.plot(foehn_jjmc_plot.index, foehn_jjmc_plot[\"prob_jjmc_filter2\"], color = \"black\", \n",
    "             linewidth = 2, label = \"JJMC\")\n",
    "    ax7.plot(foehn_jjmc_plot.index, foehn_jjmc_plot[\"prob_ahab_filter2\"], color = \"black\", \n",
    "           linestyle = \"dashed\", linewidth = 2, label = \"AHAB\")\n",
    "\n",
    "\n",
    "    ax7.set_ylim(0,1.05); #ax7.legend(bbox_to_anchor =(0.5,-0.5), loc='lower center', fontsize = 20, ncol = 2)\n",
    "    ax7.set_title(\"Foehn probability, Wind speed, Tdiff, RH, [110°, 250°]\", fontsize = 20); ax7.tick_params(axis='both', which='major', labelsize=20)\n",
    "    ax7.tick_params(axis='x', labelsize=25)#, ax7.set_ylabel(\"Wind speed, Tdiff, RH, [110°, 250°]\", fontsize = 20)\n",
    "\n",
    "    \n",
    "    plt.subplots_adjust(hspace=0.6)\n",
    "\n",
    "    if year != None:\n",
    "        plt.savefig(fr\"C:\\Users\\leopo\\Master\\Thesis\\Code\\Rfoehnix\\final_version\\R_output\\era5_era5_filter\\plots\\\\{year}\\\\{(str(start))[0:10]}_{(str(end))[0:10]}.png\", \n",
    "               bbox_inches=\"tight\")\n",
    "    else:\n",
    "        plt.savefig(fr\"C:\\Users\\leopo\\Master\\Thesis\\Code\\Rfoehnix\\final_version\\R_output\\era5_era5_filter\\plots\\sel_events\\\\{(str(start))[0:10]}_{(str(end))[0:10]}.png\", \n",
    "               bbox_inches=\"tight\")\n",
    "    plt.close()"
   ]
  },
  {
   "cell_type": "code",
   "execution_count": 28,
   "id": "d4f5781a-38fe-4a2f-bbc3-645dff12d3ee",
   "metadata": {},
   "outputs": [],
   "source": [
    "plot_function(\"2011-01-14 00:00:00\", \"2009-01-19 08:00:00\")"
   ]
  },
  {
   "cell_type": "markdown",
   "id": "f9a2cb1f-c213-412a-a4d5-501040fabe08",
   "metadata": {
    "tags": []
   },
   "source": [
    "### some selected events"
   ]
  },
  {
   "cell_type": "code",
   "execution_count": 96,
   "id": "9df9a0a4-f412-4a33-ac73-e96116a5ec94",
   "metadata": {},
   "outputs": [],
   "source": [
    "start_dates = [\"2008-12-08 00:00:00\", \"2008-12-14 00:00:00\", \"2009-01-14 00:00:00\", \"2009-02-11 00:00:00\", \n",
    "               \"2009-04-26 00:00:00\", \"2011-11-30 00:00:00\", \"2012-01-01 00:00:00\", \"2012-09-15 00:00:00\", \n",
    "              \"2013-04-07 00:00:00\", \"2014-05-24 00:00:00\"]\n",
    "end_dates = [\"2008-12-12 00:00:00\", \"2008-12-17 00:00:00\", \"2009-01-19 08:00:00\", \"2009-02-15 00:00:00\", \n",
    "             \"2009-04-29 00:00:00\", \"2011-12-11 00:00:00\", \"2012-01-13 00:00:00\", \"2012-09-25 00:00:00\", \n",
    "            \"2013-04-09 00:00:00\", \"2014-05-30 00:00:00\"]"
   ]
  },
  {
   "cell_type": "code",
   "execution_count": 97,
   "id": "af638fca-c11e-40d7-a113-c0df5ea6b65a",
   "metadata": {
    "tags": []
   },
   "outputs": [],
   "source": [
    "#call plot function\n",
    "for start, end in zip(start_dates, end_dates):\n",
    "    plot_function(start, end)"
   ]
  },
  {
   "cell_type": "code",
   "execution_count": 98,
   "id": "f589e8bc-9ea3-433d-a3b8-e65144fb6dbc",
   "metadata": {
    "tags": []
   },
   "outputs": [],
   "source": [
    "#year 2009\n",
    "# Define the start date for the year 2009\n",
    "for year in np.arange(2008, 2015):\n",
    "    start_date1 = pd.to_datetime(f\"{year}-01-01 00:00:00\")\n",
    "    start_date2 = start_date1 + timedelta(days=10)\n",
    "\n",
    "    # Create a list of datetime objects with 10-day intervals\n",
    "    date_list1 = [start_date1 + timedelta(days=10 * i) for i in range(37)]\n",
    "    date_list2 = [start_date2 + timedelta(days=10 * i) for i in range(37)]\n",
    "\n",
    "    for start, end in zip(date_list1, date_list2):\n",
    "        plot_function(start, end, year)"
   ]
  },
  {
   "cell_type": "code",
   "execution_count": 81,
   "id": "958d8b8b-2230-4daa-ae89-8ab0e9d4e0fa",
   "metadata": {},
   "outputs": [
    {
     "data": {
      "text/plain": [
       "array([2008, 2009, 2010, 2011, 2012, 2013, 2014])"
      ]
     },
     "execution_count": 81,
     "metadata": {},
     "output_type": "execute_result"
    }
   ],
   "source": [
    "np.arange(2008, 2015)"
   ]
  },
  {
   "cell_type": "markdown",
   "id": "0abdc35d-0e57-45ed-b83d-a3b2e35b3f96",
   "metadata": {},
   "source": [
    "## seasonality of foehn winds\n",
    "The Hovmoller plots show a maximum of foehn occurance during January. I want to plot additionally the frequency, just by average hours per month. "
   ]
  },
  {
   "cell_type": "code",
   "execution_count": 33,
   "id": "4e6aae55-6125-4650-ba52-bf08a004ac86",
   "metadata": {},
   "outputs": [],
   "source": [
    "#add column foehn yes = 1 or no = 0\n",
    "foehn_dataset[\"foehn_yes_no\"] = np.where(foehn_dataset[\"prob_jjmc_filter2\"] > 0.5, 1, 0)"
   ]
  },
  {
   "cell_type": "code",
   "execution_count": 39,
   "id": "05ada9e7-a040-4200-9026-00813f09b8f5",
   "metadata": {},
   "outputs": [],
   "source": [
    "#caclulate monthly means\n",
    "month_foehnnumber = foehn_dataset[\"foehn_yes_no\"][\"2009\":].groupby(foehn_dataset[\"2009\":].index.month).sum()"
   ]
  },
  {
   "cell_type": "code",
   "execution_count": 49,
   "id": "b667811b-fcad-4ae9-9c9b-d583295205c5",
   "metadata": {},
   "outputs": [
    {
     "data": {
      "image/png": "[encoded data removed]",
      "text/plain": [
       "<Figure size 800x550 with 1 Axes>"
      ]
     },
     "metadata": {},
     "output_type": "display_data"
    }
   ],
   "source": [
    "#barplot\n",
    "plt.bar(np.arange(1,13), month_foehnnumber / 6)\n",
    "plt.xticks(np.arange(1,13)); plt.xlabel(\"month\")\n",
    "plt.ylabel(\"hours with foehn\")\n",
    "plt.title(\"monthly mean of hours with foehn 2009 - 2014\")\n",
    "plt.savefig(r\"C:\\Users\\leopo\\Master\\Thesis\\images\\foehnix_timeseries\\mon_mean_foehnhours.png\")"
   ]
  },
  {
   "cell_type": "code",
   "execution_count": 53,
   "id": "107d6eb8-1f53-44bb-b10d-69dfc9b9973c",
   "metadata": {},
   "outputs": [
    {
     "data": {
      "text/plain": [
       "460"
      ]
     },
     "execution_count": 53,
     "metadata": {},
     "output_type": "execute_result"
    }
   ],
   "source": []
  },
  {
   "cell_type": "code",
   "execution_count": 57,
   "id": "7dd1f0ff-5726-4eb2-8db7-cec408c93d8c",
   "metadata": {},
   "outputs": [
    {
     "data": {
      "text/plain": [
       "0.06388888888888888"
      ]
     },
     "execution_count": 57,
     "metadata": {},
     "output_type": "execute_result"
    }
   ],
   "source": []
  }
 ],
 "metadata": {
  "kernelspec": {
   "display_name": "Python 3 (ipykernel)",
   "language": "python",
   "name": "python3"
  },
  "language_info": {
   "codemirror_mode": {
    "name": "ipython",
    "version": 3
   },
   "file_extension": ".py",
   "mimetype": "text/x-python",
   "name": "python",
   "nbconvert_exporter": "python",
   "pygments_lexer": "ipython3",
   "version": "3.9.19"
  }
 },
 "nbformat": 4,
 "nbformat_minor": 5
}
